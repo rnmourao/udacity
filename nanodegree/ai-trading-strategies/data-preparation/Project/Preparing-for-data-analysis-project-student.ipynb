{
 "cells": [
  {
   "cell_type": "markdown",
   "id": "81942eb1",
   "metadata": {},
   "source": [
    "# Course 2 Project: ML Pipeline for Feature Engineering"
   ]
  },
  {
   "cell_type": "markdown",
   "id": "4f241775",
   "metadata": {},
   "source": [
    "## Instructions\n",
    "\n",
    "In this project, you'll use data related to microeconomic indicators and historical stock prices to explore the data engineering pipline. You'll get to practice:\n",
    "\n",
    "* Data ingestion \n",
    "* Data cleaning\n",
    "* Data imputation\n",
    "* Exploratory data analysis (EDA) through charts and graphs"
   ]
  },
  {
   "cell_type": "markdown",
   "id": "1f12b277",
   "metadata": {},
   "source": [
    "## Packages\n",
    "\n",
    "You'll use `pandas` and `matplotlib`, which were covered in the course material, to import, clean, and plot data. They have been installed in this workspace for you. If you're working locally and you installed Jupyter using Anaconda, these packages will already be installed. "
   ]
  },
  {
   "cell_type": "code",
   "execution_count": 1,
   "id": "882241d4",
   "metadata": {},
   "outputs": [],
   "source": [
    "import pandas as pd\n",
    "import matplotlib.pyplot as plt\n",
    "import seaborn as sns"
   ]
  },
  {
   "cell_type": "markdown",
   "id": "f9fcd352",
   "metadata": {},
   "source": [
    "## Load data\n",
    "\n",
    "The first step in a data engineering pipeline for machine learning is to ingest the data that will be used. For this project, data is hosted on a public GitHub repo. \n",
    "\n",
    "Your tasks:\n",
    "* Import data from the provided GitHub repo using `pandas`\n",
    "* Verify that the data has been imported correctly into `pandas` dataframes. Use methods like `head()` and `info()`\n",
    "* You may need to change column names to make them easier to work with\n",
    "* You may need to cast datetime data to the `datetime` format using `pandas` `to_datetime()` method\n",
    "\n",
    "Data files to import: \n",
    "1. GDP\n",
    "2. Inflation \n",
    "3. Apple stock prices \n",
    "4. Microsoft stock prices"
   ]
  },
  {
   "cell_type": "code",
   "execution_count": 2,
   "id": "bd119016",
   "metadata": {},
   "outputs": [],
   "source": [
    "# Load historical GDP data\n",
    "gdp = pd.read_csv(\"GDP.csv\")"
   ]
  },
  {
   "cell_type": "code",
   "execution_count": 3,
   "id": "cf36d7c0",
   "metadata": {},
   "outputs": [
    {
     "data": {
      "text/html": [
       "<div>\n",
       "<style scoped>\n",
       "    .dataframe tbody tr th:only-of-type {\n",
       "        vertical-align: middle;\n",
       "    }\n",
       "\n",
       "    .dataframe tbody tr th {\n",
       "        vertical-align: top;\n",
       "    }\n",
       "\n",
       "    .dataframe thead th {\n",
       "        text-align: right;\n",
       "    }\n",
       "</style>\n",
       "<table border=\"1\" class=\"dataframe\">\n",
       "  <thead>\n",
       "    <tr style=\"text-align: right;\">\n",
       "      <th></th>\n",
       "      <th>DATE</th>\n",
       "      <th>GDP</th>\n",
       "    </tr>\n",
       "  </thead>\n",
       "  <tbody>\n",
       "    <tr>\n",
       "      <th>0</th>\n",
       "      <td>1947-01-01</td>\n",
       "      <td>243.164</td>\n",
       "    </tr>\n",
       "    <tr>\n",
       "      <th>1</th>\n",
       "      <td>1947-04-01</td>\n",
       "      <td>245.968</td>\n",
       "    </tr>\n",
       "    <tr>\n",
       "      <th>2</th>\n",
       "      <td>1947-07-01</td>\n",
       "      <td>249.585</td>\n",
       "    </tr>\n",
       "    <tr>\n",
       "      <th>3</th>\n",
       "      <td>1947-10-01</td>\n",
       "      <td>259.745</td>\n",
       "    </tr>\n",
       "    <tr>\n",
       "      <th>4</th>\n",
       "      <td>1948-01-01</td>\n",
       "      <td>265.742</td>\n",
       "    </tr>\n",
       "  </tbody>\n",
       "</table>\n",
       "</div>"
      ],
      "text/plain": [
       "         DATE      GDP\n",
       "0  1947-01-01  243.164\n",
       "1  1947-04-01  245.968\n",
       "2  1947-07-01  249.585\n",
       "3  1947-10-01  259.745\n",
       "4  1948-01-01  265.742"
      ]
     },
     "execution_count": 3,
     "metadata": {},
     "output_type": "execute_result"
    }
   ],
   "source": [
    "# Check the first few rows of data\n",
    "gdp.head()"
   ]
  },
  {
   "cell_type": "code",
   "execution_count": 4,
   "id": "2a2478c9",
   "metadata": {},
   "outputs": [],
   "source": [
    "# Load the historical stock price data for Apple and Microsoft\n",
    "apple = pd.read_csv(\"apple_historical_data.csv\")\n",
    "msoft = pd.read_csv(\"microsoft_historical_data.csv\")"
   ]
  },
  {
   "cell_type": "code",
   "execution_count": 5,
   "id": "e9e9a77a",
   "metadata": {},
   "outputs": [
    {
     "data": {
      "text/html": [
       "<div>\n",
       "<style scoped>\n",
       "    .dataframe tbody tr th:only-of-type {\n",
       "        vertical-align: middle;\n",
       "    }\n",
       "\n",
       "    .dataframe tbody tr th {\n",
       "        vertical-align: top;\n",
       "    }\n",
       "\n",
       "    .dataframe thead th {\n",
       "        text-align: right;\n",
       "    }\n",
       "</style>\n",
       "<table border=\"1\" class=\"dataframe\">\n",
       "  <thead>\n",
       "    <tr style=\"text-align: right;\">\n",
       "      <th></th>\n",
       "      <th>Date</th>\n",
       "      <th>Close/Last</th>\n",
       "      <th>Volume</th>\n",
       "      <th>Open</th>\n",
       "      <th>High</th>\n",
       "      <th>Low</th>\n",
       "    </tr>\n",
       "  </thead>\n",
       "  <tbody>\n",
       "    <tr>\n",
       "      <th>0</th>\n",
       "      <td>5/3/2024</td>\n",
       "      <td>$183.38</td>\n",
       "      <td>163224100</td>\n",
       "      <td>$186.65</td>\n",
       "      <td>$187.00</td>\n",
       "      <td>$182.66</td>\n",
       "    </tr>\n",
       "    <tr>\n",
       "      <th>1</th>\n",
       "      <td>5/2/2024</td>\n",
       "      <td>$173.03</td>\n",
       "      <td>94214920</td>\n",
       "      <td>$172.51</td>\n",
       "      <td>$173.42</td>\n",
       "      <td>$170.89</td>\n",
       "    </tr>\n",
       "    <tr>\n",
       "      <th>2</th>\n",
       "      <td>5/1/2024</td>\n",
       "      <td>$169.30</td>\n",
       "      <td>50383150</td>\n",
       "      <td>$169.58</td>\n",
       "      <td>$172.71</td>\n",
       "      <td>$169.11</td>\n",
       "    </tr>\n",
       "    <tr>\n",
       "      <th>3</th>\n",
       "      <td>4/30/2024</td>\n",
       "      <td>$170.33</td>\n",
       "      <td>65934780</td>\n",
       "      <td>$173.33</td>\n",
       "      <td>$174.99</td>\n",
       "      <td>$170.00</td>\n",
       "    </tr>\n",
       "    <tr>\n",
       "      <th>4</th>\n",
       "      <td>4/29/2024</td>\n",
       "      <td>$173.50</td>\n",
       "      <td>68169420</td>\n",
       "      <td>$173.37</td>\n",
       "      <td>$176.03</td>\n",
       "      <td>$173.10</td>\n",
       "    </tr>\n",
       "  </tbody>\n",
       "</table>\n",
       "</div>"
      ],
      "text/plain": [
       "        Date Close/Last     Volume      Open      High       Low\n",
       "0   5/3/2024   $183.38   163224100  $186.65   $187.00   $182.66 \n",
       "1   5/2/2024   $173.03    94214920  $172.51   $173.42   $170.89 \n",
       "2   5/1/2024   $169.30    50383150  $169.58   $172.71   $169.11 \n",
       "3  4/30/2024   $170.33    65934780  $173.33   $174.99   $170.00 \n",
       "4  4/29/2024   $173.50    68169420  $173.37   $176.03   $173.10 "
      ]
     },
     "execution_count": 5,
     "metadata": {},
     "output_type": "execute_result"
    }
   ],
   "source": [
    "# Check the first few rows of data\n",
    "apple.head()"
   ]
  },
  {
   "cell_type": "code",
   "execution_count": 6,
   "id": "2e5c7a11",
   "metadata": {},
   "outputs": [
    {
     "data": {
      "text/html": [
       "<div>\n",
       "<style scoped>\n",
       "    .dataframe tbody tr th:only-of-type {\n",
       "        vertical-align: middle;\n",
       "    }\n",
       "\n",
       "    .dataframe tbody tr th {\n",
       "        vertical-align: top;\n",
       "    }\n",
       "\n",
       "    .dataframe thead th {\n",
       "        text-align: right;\n",
       "    }\n",
       "</style>\n",
       "<table border=\"1\" class=\"dataframe\">\n",
       "  <thead>\n",
       "    <tr style=\"text-align: right;\">\n",
       "      <th></th>\n",
       "      <th>Date</th>\n",
       "      <th>Close/Last</th>\n",
       "      <th>Volume</th>\n",
       "      <th>Open</th>\n",
       "      <th>High</th>\n",
       "      <th>Low</th>\n",
       "    </tr>\n",
       "  </thead>\n",
       "  <tbody>\n",
       "    <tr>\n",
       "      <th>0</th>\n",
       "      <td>05/03/2024</td>\n",
       "      <td>$406.66</td>\n",
       "      <td>17446720</td>\n",
       "      <td>$402.28</td>\n",
       "      <td>$407.15</td>\n",
       "      <td>$401.86</td>\n",
       "    </tr>\n",
       "    <tr>\n",
       "      <th>1</th>\n",
       "      <td>05/02/2024</td>\n",
       "      <td>$397.84</td>\n",
       "      <td>17709360</td>\n",
       "      <td>$397.66</td>\n",
       "      <td>$399.93</td>\n",
       "      <td>$394.6515</td>\n",
       "    </tr>\n",
       "    <tr>\n",
       "      <th>2</th>\n",
       "      <td>05/01/2024</td>\n",
       "      <td>$394.94</td>\n",
       "      <td>23562480</td>\n",
       "      <td>$392.61</td>\n",
       "      <td>$401.7199</td>\n",
       "      <td>$390.31</td>\n",
       "    </tr>\n",
       "    <tr>\n",
       "      <th>3</th>\n",
       "      <td>04/30/2024</td>\n",
       "      <td>$389.33</td>\n",
       "      <td>28781370</td>\n",
       "      <td>$401.49</td>\n",
       "      <td>$402.16</td>\n",
       "      <td>$389.17</td>\n",
       "    </tr>\n",
       "    <tr>\n",
       "      <th>4</th>\n",
       "      <td>04/29/2024</td>\n",
       "      <td>$402.25</td>\n",
       "      <td>19582090</td>\n",
       "      <td>$405.25</td>\n",
       "      <td>$406.32</td>\n",
       "      <td>$399.19</td>\n",
       "    </tr>\n",
       "  </tbody>\n",
       "</table>\n",
       "</div>"
      ],
      "text/plain": [
       "         Date Close/Last    Volume     Open       High        Low\n",
       "0  05/03/2024    $406.66  17446720  $402.28    $407.15    $401.86\n",
       "1  05/02/2024    $397.84  17709360  $397.66    $399.93  $394.6515\n",
       "2  05/01/2024    $394.94  23562480  $392.61  $401.7199    $390.31\n",
       "3  04/30/2024    $389.33  28781370  $401.49    $402.16    $389.17\n",
       "4  04/29/2024    $402.25  19582090  $405.25    $406.32    $399.19"
      ]
     },
     "execution_count": 6,
     "metadata": {},
     "output_type": "execute_result"
    }
   ],
   "source": [
    "msoft.head()"
   ]
  },
  {
   "cell_type": "code",
   "execution_count": 7,
   "id": "8c9bed17",
   "metadata": {},
   "outputs": [
    {
     "name": "stdout",
     "output_type": "stream",
     "text": [
      "<class 'pandas.core.frame.DataFrame'>\n",
      "RangeIndex: 309 entries, 0 to 308\n",
      "Data columns (total 2 columns):\n",
      " #   Column  Non-Null Count  Dtype  \n",
      "---  ------  --------------  -----  \n",
      " 0   DATE    309 non-null    object \n",
      " 1   GDP     309 non-null    float64\n",
      "dtypes: float64(1), object(1)\n",
      "memory usage: 5.0+ KB\n"
     ]
    }
   ],
   "source": [
    "# Use methods like .info() and .describe() to explore the data\n",
    "gdp.info()"
   ]
  },
  {
   "cell_type": "code",
   "execution_count": 8,
   "id": "667049d7",
   "metadata": {},
   "outputs": [
    {
     "data": {
      "text/html": [
       "<div>\n",
       "<style scoped>\n",
       "    .dataframe tbody tr th:only-of-type {\n",
       "        vertical-align: middle;\n",
       "    }\n",
       "\n",
       "    .dataframe tbody tr th {\n",
       "        vertical-align: top;\n",
       "    }\n",
       "\n",
       "    .dataframe thead th {\n",
       "        text-align: right;\n",
       "    }\n",
       "</style>\n",
       "<table border=\"1\" class=\"dataframe\">\n",
       "  <thead>\n",
       "    <tr style=\"text-align: right;\">\n",
       "      <th></th>\n",
       "      <th>GDP</th>\n",
       "    </tr>\n",
       "  </thead>\n",
       "  <tbody>\n",
       "    <tr>\n",
       "      <th>count</th>\n",
       "      <td>309.000000</td>\n",
       "    </tr>\n",
       "    <tr>\n",
       "      <th>mean</th>\n",
       "      <td>7227.754935</td>\n",
       "    </tr>\n",
       "    <tr>\n",
       "      <th>std</th>\n",
       "      <td>7478.297734</td>\n",
       "    </tr>\n",
       "    <tr>\n",
       "      <th>min</th>\n",
       "      <td>243.164000</td>\n",
       "    </tr>\n",
       "    <tr>\n",
       "      <th>25%</th>\n",
       "      <td>804.981000</td>\n",
       "    </tr>\n",
       "    <tr>\n",
       "      <th>50%</th>\n",
       "      <td>4386.773000</td>\n",
       "    </tr>\n",
       "    <tr>\n",
       "      <th>75%</th>\n",
       "      <td>12527.214000</td>\n",
       "    </tr>\n",
       "    <tr>\n",
       "      <th>max</th>\n",
       "      <td>28284.498000</td>\n",
       "    </tr>\n",
       "  </tbody>\n",
       "</table>\n",
       "</div>"
      ],
      "text/plain": [
       "                GDP\n",
       "count    309.000000\n",
       "mean    7227.754935\n",
       "std     7478.297734\n",
       "min      243.164000\n",
       "25%      804.981000\n",
       "50%     4386.773000\n",
       "75%    12527.214000\n",
       "max    28284.498000"
      ]
     },
     "execution_count": 8,
     "metadata": {},
     "output_type": "execute_result"
    }
   ],
   "source": [
    "gdp.describe()"
   ]
  },
  {
   "cell_type": "code",
   "execution_count": 9,
   "id": "353ac46f",
   "metadata": {},
   "outputs": [
    {
     "name": "stdout",
     "output_type": "stream",
     "text": [
      "<class 'pandas.core.frame.DataFrame'>\n",
      "RangeIndex: 2517 entries, 0 to 2516\n",
      "Data columns (total 6 columns):\n",
      " #   Column      Non-Null Count  Dtype \n",
      "---  ------      --------------  ----- \n",
      " 0   Date        2517 non-null   object\n",
      " 1   Close/Last  2514 non-null   object\n",
      " 2   Volume      2517 non-null   int64 \n",
      " 3   Open        2517 non-null   object\n",
      " 4   High        2517 non-null   object\n",
      " 5   Low         2517 non-null   object\n",
      "dtypes: int64(1), object(5)\n",
      "memory usage: 118.1+ KB\n"
     ]
    }
   ],
   "source": [
    "apple.info()"
   ]
  },
  {
   "cell_type": "code",
   "execution_count": 10,
   "id": "c86202a9",
   "metadata": {},
   "outputs": [
    {
     "data": {
      "text/html": [
       "<div>\n",
       "<style scoped>\n",
       "    .dataframe tbody tr th:only-of-type {\n",
       "        vertical-align: middle;\n",
       "    }\n",
       "\n",
       "    .dataframe tbody tr th {\n",
       "        vertical-align: top;\n",
       "    }\n",
       "\n",
       "    .dataframe thead th {\n",
       "        text-align: right;\n",
       "    }\n",
       "</style>\n",
       "<table border=\"1\" class=\"dataframe\">\n",
       "  <thead>\n",
       "    <tr style=\"text-align: right;\">\n",
       "      <th></th>\n",
       "      <th>Volume</th>\n",
       "    </tr>\n",
       "  </thead>\n",
       "  <tbody>\n",
       "    <tr>\n",
       "      <th>count</th>\n",
       "      <td>2.517000e+03</td>\n",
       "    </tr>\n",
       "    <tr>\n",
       "      <th>mean</th>\n",
       "      <td>1.277394e+08</td>\n",
       "    </tr>\n",
       "    <tr>\n",
       "      <th>std</th>\n",
       "      <td>7.357405e+07</td>\n",
       "    </tr>\n",
       "    <tr>\n",
       "      <th>min</th>\n",
       "      <td>2.404834e+07</td>\n",
       "    </tr>\n",
       "    <tr>\n",
       "      <th>25%</th>\n",
       "      <td>7.741776e+07</td>\n",
       "    </tr>\n",
       "    <tr>\n",
       "      <th>50%</th>\n",
       "      <td>1.077601e+08</td>\n",
       "    </tr>\n",
       "    <tr>\n",
       "      <th>75%</th>\n",
       "      <td>1.567789e+08</td>\n",
       "    </tr>\n",
       "    <tr>\n",
       "      <th>max</th>\n",
       "      <td>7.576780e+08</td>\n",
       "    </tr>\n",
       "  </tbody>\n",
       "</table>\n",
       "</div>"
      ],
      "text/plain": [
       "             Volume\n",
       "count  2.517000e+03\n",
       "mean   1.277394e+08\n",
       "std    7.357405e+07\n",
       "min    2.404834e+07\n",
       "25%    7.741776e+07\n",
       "50%    1.077601e+08\n",
       "75%    1.567789e+08\n",
       "max    7.576780e+08"
      ]
     },
     "execution_count": 10,
     "metadata": {},
     "output_type": "execute_result"
    }
   ],
   "source": [
    "apple.describe()"
   ]
  },
  {
   "cell_type": "code",
   "execution_count": 11,
   "id": "a9564d20",
   "metadata": {},
   "outputs": [
    {
     "name": "stdout",
     "output_type": "stream",
     "text": [
      "<class 'pandas.core.frame.DataFrame'>\n",
      "RangeIndex: 2517 entries, 0 to 2516\n",
      "Data columns (total 6 columns):\n",
      " #   Column      Non-Null Count  Dtype \n",
      "---  ------      --------------  ----- \n",
      " 0   Date        2517 non-null   object\n",
      " 1   Close/Last  2517 non-null   object\n",
      " 2   Volume      2517 non-null   int64 \n",
      " 3   Open        2517 non-null   object\n",
      " 4   High        2517 non-null   object\n",
      " 5   Low         2517 non-null   object\n",
      "dtypes: int64(1), object(5)\n",
      "memory usage: 118.1+ KB\n"
     ]
    }
   ],
   "source": [
    "msoft.info()"
   ]
  },
  {
   "cell_type": "code",
   "execution_count": 12,
   "id": "fd143fef",
   "metadata": {},
   "outputs": [
    {
     "data": {
      "text/html": [
       "<div>\n",
       "<style scoped>\n",
       "    .dataframe tbody tr th:only-of-type {\n",
       "        vertical-align: middle;\n",
       "    }\n",
       "\n",
       "    .dataframe tbody tr th {\n",
       "        vertical-align: top;\n",
       "    }\n",
       "\n",
       "    .dataframe thead th {\n",
       "        text-align: right;\n",
       "    }\n",
       "</style>\n",
       "<table border=\"1\" class=\"dataframe\">\n",
       "  <thead>\n",
       "    <tr style=\"text-align: right;\">\n",
       "      <th></th>\n",
       "      <th>Volume</th>\n",
       "    </tr>\n",
       "  </thead>\n",
       "  <tbody>\n",
       "    <tr>\n",
       "      <th>count</th>\n",
       "      <td>2.517000e+03</td>\n",
       "    </tr>\n",
       "    <tr>\n",
       "      <th>mean</th>\n",
       "      <td>2.953106e+07</td>\n",
       "    </tr>\n",
       "    <tr>\n",
       "      <th>std</th>\n",
       "      <td>1.370138e+07</td>\n",
       "    </tr>\n",
       "    <tr>\n",
       "      <th>min</th>\n",
       "      <td>7.425603e+06</td>\n",
       "    </tr>\n",
       "    <tr>\n",
       "      <th>25%</th>\n",
       "      <td>2.131892e+07</td>\n",
       "    </tr>\n",
       "    <tr>\n",
       "      <th>50%</th>\n",
       "      <td>2.639470e+07</td>\n",
       "    </tr>\n",
       "    <tr>\n",
       "      <th>75%</th>\n",
       "      <td>3.360003e+07</td>\n",
       "    </tr>\n",
       "    <tr>\n",
       "      <th>max</th>\n",
       "      <td>2.025141e+08</td>\n",
       "    </tr>\n",
       "  </tbody>\n",
       "</table>\n",
       "</div>"
      ],
      "text/plain": [
       "             Volume\n",
       "count  2.517000e+03\n",
       "mean   2.953106e+07\n",
       "std    1.370138e+07\n",
       "min    7.425603e+06\n",
       "25%    2.131892e+07\n",
       "50%    2.639470e+07\n",
       "75%    3.360003e+07\n",
       "max    2.025141e+08"
      ]
     },
     "execution_count": 12,
     "metadata": {},
     "output_type": "execute_result"
    }
   ],
   "source": [
    "msoft.describe()"
   ]
  },
  {
   "cell_type": "markdown",
   "id": "06c8d9dc",
   "metadata": {},
   "source": [
    "## Data preprocessing: Check for missing data and forward fill\n",
    "\n",
    "Check the Apple historical prices for missing data. Check for missing data in all columns. If there's data missing, use a forward fill to fill in those missing prices. "
   ]
  },
  {
   "cell_type": "code",
   "execution_count": 13,
   "id": "4807173e",
   "metadata": {},
   "outputs": [
    {
     "data": {
      "text/plain": [
       "False"
      ]
     },
     "execution_count": 13,
     "metadata": {},
     "output_type": "execute_result"
    }
   ],
   "source": [
    "# Check for nulls \n",
    "if apple.isna().any().any():\n",
    "    apple = apple.sort_values(by=\"Date\").reset_index(drop=True).set_index(\"Date\")\n",
    "    \n",
    "    # Forward fill any missing data\n",
    "    apple.ffill(inplace=True)\n",
    "    apple.reset_index(inplace=True)\n",
    "\n",
    "# Check again for nulls after using forward fill\n",
    "apple.isna().any().any()"
   ]
  },
  {
   "cell_type": "markdown",
   "id": "2614c615",
   "metadata": {},
   "source": [
    "## Data preprocessing: Remove special characters and convert to numeric/datetime\n",
    "\n",
    "The next step in the data engineering process is to standardize and clean up data. In this step, you'll check for odd formatting and special characters that will make it difficult to work with data as numeric or datetime. \n",
    "\n",
    "In this step:\n",
    "* Create a function that takes in a dataframe and a list of columns and removes dollar signs ('$') from those columns\n",
    "* Convert any columns with date/time data into a `pandas` `datetime` format"
   ]
  },
  {
   "cell_type": "code",
   "execution_count": 14,
   "id": "a47537af",
   "metadata": {},
   "outputs": [],
   "source": [
    "def convert_dollar_columns_to_numeric(df, numeric_columns):\n",
    "    '''\n",
    "        Removes dollar signs ('$') from a list of columns in a given dataframe AND casts the columns to a numeric datatype.\n",
    "        Updates dataframe IN PLACE.\n",
    "        \n",
    "        Inputs:\n",
    "            df: dataframe to be operated on\n",
    "            numeric_columns: columns that should have numeric data but have dollar signs currently\n",
    "            \n",
    "        Returns:\n",
    "            None - changes to the dataframe can be made in place\n",
    "    '''\n",
    "    for c in df.columns:\n",
    "        if c in numeric_columns:\n",
    "            df[c] = df[c].replace(r\"\\$\", r\"\", regex=True)\n",
    "            df[c] = df[c].astype(\"float\")\n",
    "        else:\n",
    "            # Convert any columns with date/time data into a `pandas` `datetime` format\n",
    "            try:\n",
    "                # Use pandas's to_datetime() to convert any columns that are in a datetime format\n",
    "                df[c] = pd.to_datetime(df[c])\n",
    "            except (ValueError, TypeError):\n",
    "                pass\n",
    "            \n",
    "    return "
   ]
  },
  {
   "cell_type": "code",
   "execution_count": 15,
   "id": "055f8621",
   "metadata": {},
   "outputs": [],
   "source": [
    "# Use convert_dollar_columns_to_numeric() to remove the dollar sign from the Apple and Microsoft datasets\n",
    "convert_dollar_columns_to_numeric(apple, ['Close/Last', 'Volume', 'Open', 'High', 'Low'])\n",
    "convert_dollar_columns_to_numeric(msoft, ['Close/Last', 'Volume', 'Open', 'High', 'Low'])"
   ]
  },
  {
   "cell_type": "code",
   "execution_count": 16,
   "id": "8a2089e3",
   "metadata": {},
   "outputs": [
    {
     "name": "stdout",
     "output_type": "stream",
     "text": [
      "<class 'pandas.core.frame.DataFrame'>\n",
      "RangeIndex: 2517 entries, 0 to 2516\n",
      "Data columns (total 6 columns):\n",
      " #   Column      Non-Null Count  Dtype         \n",
      "---  ------      --------------  -----         \n",
      " 0   Date        2517 non-null   datetime64[ns]\n",
      " 1   Close/Last  2517 non-null   float64       \n",
      " 2   Volume      2517 non-null   float64       \n",
      " 3   Open        2517 non-null   float64       \n",
      " 4   High        2517 non-null   float64       \n",
      " 5   Low         2517 non-null   float64       \n",
      "dtypes: datetime64[ns](1), float64(5)\n",
      "memory usage: 118.1 KB\n"
     ]
    }
   ],
   "source": [
    "# Use .info() and check the type of each column to ensure that the above steps worked\n",
    "apple.info()"
   ]
  },
  {
   "cell_type": "code",
   "execution_count": 17,
   "id": "7f31e9c3",
   "metadata": {},
   "outputs": [
    {
     "name": "stdout",
     "output_type": "stream",
     "text": [
      "<class 'pandas.core.frame.DataFrame'>\n",
      "RangeIndex: 2517 entries, 0 to 2516\n",
      "Data columns (total 6 columns):\n",
      " #   Column      Non-Null Count  Dtype         \n",
      "---  ------      --------------  -----         \n",
      " 0   Date        2517 non-null   datetime64[ns]\n",
      " 1   Close/Last  2517 non-null   float64       \n",
      " 2   Volume      2517 non-null   float64       \n",
      " 3   Open        2517 non-null   float64       \n",
      " 4   High        2517 non-null   float64       \n",
      " 5   Low         2517 non-null   float64       \n",
      "dtypes: datetime64[ns](1), float64(5)\n",
      "memory usage: 118.1 KB\n"
     ]
    }
   ],
   "source": [
    "msoft.info()"
   ]
  },
  {
   "cell_type": "markdown",
   "id": "95ad8e72",
   "metadata": {},
   "source": [
    "## Data preprocessing: Align datetime data\n",
    "\n",
    "Data engineering includes changing data with a datetime component if needed so that different time series can be more easily compared or plotted against each other. \n",
    "\n",
    "In this step:\n",
    "\n",
    "* Align the inflation date so that it falls on the last day of the month instead of the first\n",
    "\n",
    "Helpful hints: \n",
    "* Use the `pandas` `offsets` method using `MonthEnd(0)` to set the 'Date' column to month-end"
   ]
  },
  {
   "cell_type": "code",
   "execution_count": 18,
   "id": "fe782db6",
   "metadata": {},
   "outputs": [
    {
     "data": {
      "text/html": [
       "<div>\n",
       "<style scoped>\n",
       "    .dataframe tbody tr th:only-of-type {\n",
       "        vertical-align: middle;\n",
       "    }\n",
       "\n",
       "    .dataframe tbody tr th {\n",
       "        vertical-align: top;\n",
       "    }\n",
       "\n",
       "    .dataframe thead th {\n",
       "        text-align: right;\n",
       "    }\n",
       "</style>\n",
       "<table border=\"1\" class=\"dataframe\">\n",
       "  <thead>\n",
       "    <tr style=\"text-align: right;\">\n",
       "      <th></th>\n",
       "      <th>DATE</th>\n",
       "      <th>CORESTICKM159SFRBATL</th>\n",
       "    </tr>\n",
       "  </thead>\n",
       "  <tbody>\n",
       "    <tr>\n",
       "      <th>0</th>\n",
       "      <td>1968-01-01</td>\n",
       "      <td>3.651861</td>\n",
       "    </tr>\n",
       "    <tr>\n",
       "      <th>1</th>\n",
       "      <td>1968-02-01</td>\n",
       "      <td>3.673819</td>\n",
       "    </tr>\n",
       "    <tr>\n",
       "      <th>2</th>\n",
       "      <td>1968-03-01</td>\n",
       "      <td>4.142164</td>\n",
       "    </tr>\n",
       "    <tr>\n",
       "      <th>3</th>\n",
       "      <td>1968-04-01</td>\n",
       "      <td>4.155828</td>\n",
       "    </tr>\n",
       "    <tr>\n",
       "      <th>4</th>\n",
       "      <td>1968-05-01</td>\n",
       "      <td>4.088245</td>\n",
       "    </tr>\n",
       "    <tr>\n",
       "      <th>...</th>\n",
       "      <td>...</td>\n",
       "      <td>...</td>\n",
       "    </tr>\n",
       "    <tr>\n",
       "      <th>670</th>\n",
       "      <td>2023-11-01</td>\n",
       "      <td>4.688293</td>\n",
       "    </tr>\n",
       "    <tr>\n",
       "      <th>671</th>\n",
       "      <td>2023-12-01</td>\n",
       "      <td>4.554396</td>\n",
       "    </tr>\n",
       "    <tr>\n",
       "      <th>672</th>\n",
       "      <td>2024-01-01</td>\n",
       "      <td>4.603922</td>\n",
       "    </tr>\n",
       "    <tr>\n",
       "      <th>673</th>\n",
       "      <td>2024-02-01</td>\n",
       "      <td>4.403102</td>\n",
       "    </tr>\n",
       "    <tr>\n",
       "      <th>674</th>\n",
       "      <td>2024-03-01</td>\n",
       "      <td>4.509212</td>\n",
       "    </tr>\n",
       "  </tbody>\n",
       "</table>\n",
       "<p>675 rows × 2 columns</p>\n",
       "</div>"
      ],
      "text/plain": [
       "           DATE  CORESTICKM159SFRBATL\n",
       "0    1968-01-01              3.651861\n",
       "1    1968-02-01              3.673819\n",
       "2    1968-03-01              4.142164\n",
       "3    1968-04-01              4.155828\n",
       "4    1968-05-01              4.088245\n",
       "..          ...                   ...\n",
       "670  2023-11-01              4.688293\n",
       "671  2023-12-01              4.554396\n",
       "672  2024-01-01              4.603922\n",
       "673  2024-02-01              4.403102\n",
       "674  2024-03-01              4.509212\n",
       "\n",
       "[675 rows x 2 columns]"
      ]
     },
     "metadata": {},
     "output_type": "display_data"
    },
    {
     "data": {
      "text/html": [
       "<div>\n",
       "<style scoped>\n",
       "    .dataframe tbody tr th:only-of-type {\n",
       "        vertical-align: middle;\n",
       "    }\n",
       "\n",
       "    .dataframe tbody tr th {\n",
       "        vertical-align: top;\n",
       "    }\n",
       "\n",
       "    .dataframe thead th {\n",
       "        text-align: right;\n",
       "    }\n",
       "</style>\n",
       "<table border=\"1\" class=\"dataframe\">\n",
       "  <thead>\n",
       "    <tr style=\"text-align: right;\">\n",
       "      <th></th>\n",
       "      <th>DATE</th>\n",
       "      <th>CORESTICKM159SFRBATL</th>\n",
       "    </tr>\n",
       "  </thead>\n",
       "  <tbody>\n",
       "    <tr>\n",
       "      <th>0</th>\n",
       "      <td>1968-01-31</td>\n",
       "      <td>3.651861</td>\n",
       "    </tr>\n",
       "    <tr>\n",
       "      <th>1</th>\n",
       "      <td>1968-02-29</td>\n",
       "      <td>3.673819</td>\n",
       "    </tr>\n",
       "    <tr>\n",
       "      <th>2</th>\n",
       "      <td>1968-03-31</td>\n",
       "      <td>4.142164</td>\n",
       "    </tr>\n",
       "    <tr>\n",
       "      <th>3</th>\n",
       "      <td>1968-04-30</td>\n",
       "      <td>4.155828</td>\n",
       "    </tr>\n",
       "    <tr>\n",
       "      <th>4</th>\n",
       "      <td>1968-05-31</td>\n",
       "      <td>4.088245</td>\n",
       "    </tr>\n",
       "    <tr>\n",
       "      <th>...</th>\n",
       "      <td>...</td>\n",
       "      <td>...</td>\n",
       "    </tr>\n",
       "    <tr>\n",
       "      <th>670</th>\n",
       "      <td>2023-11-30</td>\n",
       "      <td>4.688293</td>\n",
       "    </tr>\n",
       "    <tr>\n",
       "      <th>671</th>\n",
       "      <td>2023-12-31</td>\n",
       "      <td>4.554396</td>\n",
       "    </tr>\n",
       "    <tr>\n",
       "      <th>672</th>\n",
       "      <td>2024-01-31</td>\n",
       "      <td>4.603922</td>\n",
       "    </tr>\n",
       "    <tr>\n",
       "      <th>673</th>\n",
       "      <td>2024-02-29</td>\n",
       "      <td>4.403102</td>\n",
       "    </tr>\n",
       "    <tr>\n",
       "      <th>674</th>\n",
       "      <td>2024-03-31</td>\n",
       "      <td>4.509212</td>\n",
       "    </tr>\n",
       "  </tbody>\n",
       "</table>\n",
       "<p>675 rows × 2 columns</p>\n",
       "</div>"
      ],
      "text/plain": [
       "          DATE  CORESTICKM159SFRBATL\n",
       "0   1968-01-31              3.651861\n",
       "1   1968-02-29              3.673819\n",
       "2   1968-03-31              4.142164\n",
       "3   1968-04-30              4.155828\n",
       "4   1968-05-31              4.088245\n",
       "..         ...                   ...\n",
       "670 2023-11-30              4.688293\n",
       "671 2023-12-31              4.554396\n",
       "672 2024-01-31              4.603922\n",
       "673 2024-02-29              4.403102\n",
       "674 2024-03-31              4.509212\n",
       "\n",
       "[675 rows x 2 columns]"
      ]
     },
     "metadata": {},
     "output_type": "display_data"
    }
   ],
   "source": [
    "# Align inflation data so that the date is the month end (e.g. Jan 31, Feb 28/28)\n",
    "inflation = pd.read_csv(\"inflation_monthly.csv\")\n",
    "inflation.sort_values(\"DATE\", inplace=True)\n",
    "display(inflation)\n",
    "\n",
    "# Align the dates to the month-end\n",
    "inflation[\"DATE\"] = pd.to_datetime(inflation[\"DATE\"]) + pd.offsets.MonthEnd(0)\n",
    "\n",
    "display(inflation)"
   ]
  },
  {
   "cell_type": "markdown",
   "id": "e072f4a1",
   "metadata": {},
   "source": [
    "## Data preprocessing: Upsample, downsample and interpolate data\n",
    "\n",
    "Inflation data is presented monthly in this dataset. However, for some models, you may need it at a quarterly frequency, and for some models you may need it at a quarterly frequency. \n",
    "\n",
    "In this step:\n",
    "* Create a new quarterly inflation dataframe by downsampling the monthly inflation data to quarterly using the mean (e.g. for quarter 1 in a given year, use the average values from January, February, and March)\n",
    "* Create a new weekly inflation dataframe by upsampling the monthly inflation data. For this, you'll need to use `resample` and then you'll need to `interpolate` to fill in the missing data at the weekly frequency\n",
    "\n",
    "Note that you may need to change the index for some of these operations! "
   ]
  },
  {
   "cell_type": "code",
   "execution_count": 19,
   "id": "28fea2f6",
   "metadata": {},
   "outputs": [
    {
     "data": {
      "text/html": [
       "<div>\n",
       "<style scoped>\n",
       "    .dataframe tbody tr th:only-of-type {\n",
       "        vertical-align: middle;\n",
       "    }\n",
       "\n",
       "    .dataframe tbody tr th {\n",
       "        vertical-align: top;\n",
       "    }\n",
       "\n",
       "    .dataframe thead th {\n",
       "        text-align: right;\n",
       "    }\n",
       "</style>\n",
       "<table border=\"1\" class=\"dataframe\">\n",
       "  <thead>\n",
       "    <tr style=\"text-align: right;\">\n",
       "      <th></th>\n",
       "      <th>CORESTICKM159SFRBATL</th>\n",
       "    </tr>\n",
       "    <tr>\n",
       "      <th>DATE</th>\n",
       "      <th></th>\n",
       "    </tr>\n",
       "  </thead>\n",
       "  <tbody>\n",
       "    <tr>\n",
       "      <th>1968-02-04</th>\n",
       "      <td>4.142164</td>\n",
       "    </tr>\n",
       "    <tr>\n",
       "      <th>1968-02-11</th>\n",
       "      <td>4.142164</td>\n",
       "    </tr>\n",
       "    <tr>\n",
       "      <th>1968-02-18</th>\n",
       "      <td>4.142164</td>\n",
       "    </tr>\n",
       "    <tr>\n",
       "      <th>1968-02-25</th>\n",
       "      <td>4.142164</td>\n",
       "    </tr>\n",
       "    <tr>\n",
       "      <th>1968-03-03</th>\n",
       "      <td>4.142164</td>\n",
       "    </tr>\n",
       "    <tr>\n",
       "      <th>...</th>\n",
       "      <td>...</td>\n",
       "    </tr>\n",
       "    <tr>\n",
       "      <th>2024-03-03</th>\n",
       "      <td>4.523115</td>\n",
       "    </tr>\n",
       "    <tr>\n",
       "      <th>2024-03-10</th>\n",
       "      <td>4.519639</td>\n",
       "    </tr>\n",
       "    <tr>\n",
       "      <th>2024-03-17</th>\n",
       "      <td>4.516164</td>\n",
       "    </tr>\n",
       "    <tr>\n",
       "      <th>2024-03-24</th>\n",
       "      <td>4.512688</td>\n",
       "    </tr>\n",
       "    <tr>\n",
       "      <th>2024-03-31</th>\n",
       "      <td>4.509212</td>\n",
       "    </tr>\n",
       "  </tbody>\n",
       "</table>\n",
       "<p>2931 rows × 1 columns</p>\n",
       "</div>"
      ],
      "text/plain": [
       "            CORESTICKM159SFRBATL\n",
       "DATE                            \n",
       "1968-02-04              4.142164\n",
       "1968-02-11              4.142164\n",
       "1968-02-18              4.142164\n",
       "1968-02-25              4.142164\n",
       "1968-03-03              4.142164\n",
       "...                          ...\n",
       "2024-03-03              4.523115\n",
       "2024-03-10              4.519639\n",
       "2024-03-17              4.516164\n",
       "2024-03-24              4.512688\n",
       "2024-03-31              4.509212\n",
       "\n",
       "[2931 rows x 1 columns]"
      ]
     },
     "metadata": {},
     "output_type": "display_data"
    }
   ],
   "source": [
    "# Upsample and interpolate from monthly to weekly \n",
    "weekly_inflation = inflation.copy()\n",
    "weekly_inflation.set_index(\"DATE\", inplace=True)\n",
    "\n",
    "weekly_inflation = weekly_inflation.resample(\"W\").interpolate(limit_direction='both')\n",
    "\n",
    "display(weekly_inflation)"
   ]
  },
  {
   "cell_type": "code",
   "execution_count": 20,
   "id": "635647a1",
   "metadata": {},
   "outputs": [
    {
     "data": {
      "text/html": [
       "<div>\n",
       "<style scoped>\n",
       "    .dataframe tbody tr th:only-of-type {\n",
       "        vertical-align: middle;\n",
       "    }\n",
       "\n",
       "    .dataframe tbody tr th {\n",
       "        vertical-align: top;\n",
       "    }\n",
       "\n",
       "    .dataframe thead th {\n",
       "        text-align: right;\n",
       "    }\n",
       "</style>\n",
       "<table border=\"1\" class=\"dataframe\">\n",
       "  <thead>\n",
       "    <tr style=\"text-align: right;\">\n",
       "      <th></th>\n",
       "      <th>CORESTICKM159SFRBATL</th>\n",
       "    </tr>\n",
       "    <tr>\n",
       "      <th>DATE</th>\n",
       "      <th></th>\n",
       "    </tr>\n",
       "  </thead>\n",
       "  <tbody>\n",
       "    <tr>\n",
       "      <th>1968-03-31</th>\n",
       "      <td>3.822615</td>\n",
       "    </tr>\n",
       "    <tr>\n",
       "      <th>1968-06-30</th>\n",
       "      <td>4.263214</td>\n",
       "    </tr>\n",
       "    <tr>\n",
       "      <th>1968-09-30</th>\n",
       "      <td>4.882643</td>\n",
       "    </tr>\n",
       "    <tr>\n",
       "      <th>1968-12-31</th>\n",
       "      <td>5.429443</td>\n",
       "    </tr>\n",
       "    <tr>\n",
       "      <th>1969-03-31</th>\n",
       "      <td>5.873770</td>\n",
       "    </tr>\n",
       "    <tr>\n",
       "      <th>...</th>\n",
       "      <td>...</td>\n",
       "    </tr>\n",
       "    <tr>\n",
       "      <th>2023-03-31</th>\n",
       "      <td>6.467833</td>\n",
       "    </tr>\n",
       "    <tr>\n",
       "      <th>2023-06-30</th>\n",
       "      <td>5.942054</td>\n",
       "    </tr>\n",
       "    <tr>\n",
       "      <th>2023-09-30</th>\n",
       "      <td>5.179249</td>\n",
       "    </tr>\n",
       "    <tr>\n",
       "      <th>2023-12-31</th>\n",
       "      <td>4.708539</td>\n",
       "    </tr>\n",
       "    <tr>\n",
       "      <th>2024-03-31</th>\n",
       "      <td>4.505412</td>\n",
       "    </tr>\n",
       "  </tbody>\n",
       "</table>\n",
       "<p>225 rows × 1 columns</p>\n",
       "</div>"
      ],
      "text/plain": [
       "            CORESTICKM159SFRBATL\n",
       "DATE                            \n",
       "1968-03-31              3.822615\n",
       "1968-06-30              4.263214\n",
       "1968-09-30              4.882643\n",
       "1968-12-31              5.429443\n",
       "1969-03-31              5.873770\n",
       "...                          ...\n",
       "2023-03-31              6.467833\n",
       "2023-06-30              5.942054\n",
       "2023-09-30              5.179249\n",
       "2023-12-31              4.708539\n",
       "2024-03-31              4.505412\n",
       "\n",
       "[225 rows x 1 columns]"
      ]
     },
     "metadata": {},
     "output_type": "display_data"
    }
   ],
   "source": [
    "# Downsample from monthly to quarterly \n",
    "quartely_inflation = inflation.copy()\n",
    "quartely_inflation.set_index(\"DATE\", inplace=True)\n",
    "\n",
    "quartely_inflation = quartely_inflation.resample(\"QE\").mean()\n",
    "display(quartely_inflation)"
   ]
  },
  {
   "cell_type": "markdown",
   "id": "0ea82443",
   "metadata": {},
   "source": [
    "## Data preprocessing: Normalize/standardize a feature\n",
    "\n",
    "Economic time series data often involve variables measured on different scales (e.g., GDP in trillions of dollars, inflation in percentage points). Standardizing these variables (typically by subtracting the mean and dividing by the standard deviation) puts them on a common scale, allowing for meaningful comparisons and analyses.\n",
    "\n",
    "Your task:\n",
    "* Standardize the GDP data. You may do this manually by subtracting the mean and dividing by the standard deviation, or you may use a built-in method from a library like `sklearn`'s `StandardScaler`"
   ]
  },
  {
   "cell_type": "code",
   "execution_count": 21,
   "id": "4f88d246",
   "metadata": {},
   "outputs": [
    {
     "data": {
      "text/html": [
       "<div>\n",
       "<style scoped>\n",
       "    .dataframe tbody tr th:only-of-type {\n",
       "        vertical-align: middle;\n",
       "    }\n",
       "\n",
       "    .dataframe tbody tr th {\n",
       "        vertical-align: top;\n",
       "    }\n",
       "\n",
       "    .dataframe thead th {\n",
       "        text-align: right;\n",
       "    }\n",
       "</style>\n",
       "<table border=\"1\" class=\"dataframe\">\n",
       "  <thead>\n",
       "    <tr style=\"text-align: right;\">\n",
       "      <th></th>\n",
       "      <th>DATE</th>\n",
       "      <th>GDP</th>\n",
       "    </tr>\n",
       "  </thead>\n",
       "  <tbody>\n",
       "    <tr>\n",
       "      <th>0</th>\n",
       "      <td>1947-01-01</td>\n",
       "      <td>243.164</td>\n",
       "    </tr>\n",
       "    <tr>\n",
       "      <th>1</th>\n",
       "      <td>1947-04-01</td>\n",
       "      <td>245.968</td>\n",
       "    </tr>\n",
       "    <tr>\n",
       "      <th>2</th>\n",
       "      <td>1947-07-01</td>\n",
       "      <td>249.585</td>\n",
       "    </tr>\n",
       "    <tr>\n",
       "      <th>3</th>\n",
       "      <td>1947-10-01</td>\n",
       "      <td>259.745</td>\n",
       "    </tr>\n",
       "    <tr>\n",
       "      <th>4</th>\n",
       "      <td>1948-01-01</td>\n",
       "      <td>265.742</td>\n",
       "    </tr>\n",
       "    <tr>\n",
       "      <th>...</th>\n",
       "      <td>...</td>\n",
       "      <td>...</td>\n",
       "    </tr>\n",
       "    <tr>\n",
       "      <th>304</th>\n",
       "      <td>2023-01-01</td>\n",
       "      <td>26813.601</td>\n",
       "    </tr>\n",
       "    <tr>\n",
       "      <th>305</th>\n",
       "      <td>2023-04-01</td>\n",
       "      <td>27063.012</td>\n",
       "    </tr>\n",
       "    <tr>\n",
       "      <th>306</th>\n",
       "      <td>2023-07-01</td>\n",
       "      <td>27610.128</td>\n",
       "    </tr>\n",
       "    <tr>\n",
       "      <th>307</th>\n",
       "      <td>2023-10-01</td>\n",
       "      <td>27956.998</td>\n",
       "    </tr>\n",
       "    <tr>\n",
       "      <th>308</th>\n",
       "      <td>2024-01-01</td>\n",
       "      <td>28284.498</td>\n",
       "    </tr>\n",
       "  </tbody>\n",
       "</table>\n",
       "<p>309 rows × 2 columns</p>\n",
       "</div>"
      ],
      "text/plain": [
       "           DATE        GDP\n",
       "0    1947-01-01    243.164\n",
       "1    1947-04-01    245.968\n",
       "2    1947-07-01    249.585\n",
       "3    1947-10-01    259.745\n",
       "4    1948-01-01    265.742\n",
       "..          ...        ...\n",
       "304  2023-01-01  26813.601\n",
       "305  2023-04-01  27063.012\n",
       "306  2023-07-01  27610.128\n",
       "307  2023-10-01  27956.998\n",
       "308  2024-01-01  28284.498\n",
       "\n",
       "[309 rows x 2 columns]"
      ]
     },
     "metadata": {},
     "output_type": "display_data"
    }
   ],
   "source": [
    "# Standardize the GDP measure\n",
    "from sklearn.preprocessing import StandardScaler\n",
    "\n",
    "display(gdp)\n",
    "\n",
    "ss = StandardScaler()\n",
    "gdp[\"GDP\"] = ss.fit_transform(gdp[\"GDP\"].to_numpy().reshape(-1, 1))"
   ]
  },
  {
   "cell_type": "code",
   "execution_count": 22,
   "id": "e4801c53",
   "metadata": {},
   "outputs": [
    {
     "data": {
      "text/html": [
       "<div>\n",
       "<style scoped>\n",
       "    .dataframe tbody tr th:only-of-type {\n",
       "        vertical-align: middle;\n",
       "    }\n",
       "\n",
       "    .dataframe tbody tr th {\n",
       "        vertical-align: top;\n",
       "    }\n",
       "\n",
       "    .dataframe thead th {\n",
       "        text-align: right;\n",
       "    }\n",
       "</style>\n",
       "<table border=\"1\" class=\"dataframe\">\n",
       "  <thead>\n",
       "    <tr style=\"text-align: right;\">\n",
       "      <th></th>\n",
       "      <th>DATE</th>\n",
       "      <th>GDP</th>\n",
       "    </tr>\n",
       "  </thead>\n",
       "  <tbody>\n",
       "    <tr>\n",
       "      <th>0</th>\n",
       "      <td>1947-01-01</td>\n",
       "      <td>-0.935496</td>\n",
       "    </tr>\n",
       "    <tr>\n",
       "      <th>1</th>\n",
       "      <td>1947-04-01</td>\n",
       "      <td>-0.935121</td>\n",
       "    </tr>\n",
       "    <tr>\n",
       "      <th>2</th>\n",
       "      <td>1947-07-01</td>\n",
       "      <td>-0.934636</td>\n",
       "    </tr>\n",
       "    <tr>\n",
       "      <th>3</th>\n",
       "      <td>1947-10-01</td>\n",
       "      <td>-0.933276</td>\n",
       "    </tr>\n",
       "    <tr>\n",
       "      <th>4</th>\n",
       "      <td>1948-01-01</td>\n",
       "      <td>-0.932472</td>\n",
       "    </tr>\n",
       "    <tr>\n",
       "      <th>...</th>\n",
       "      <td>...</td>\n",
       "      <td>...</td>\n",
       "    </tr>\n",
       "    <tr>\n",
       "      <th>304</th>\n",
       "      <td>2023-01-01</td>\n",
       "      <td>2.623273</td>\n",
       "    </tr>\n",
       "    <tr>\n",
       "      <th>305</th>\n",
       "      <td>2023-04-01</td>\n",
       "      <td>2.656678</td>\n",
       "    </tr>\n",
       "    <tr>\n",
       "      <th>306</th>\n",
       "      <td>2023-07-01</td>\n",
       "      <td>2.729957</td>\n",
       "    </tr>\n",
       "    <tr>\n",
       "      <th>307</th>\n",
       "      <td>2023-10-01</td>\n",
       "      <td>2.776416</td>\n",
       "    </tr>\n",
       "    <tr>\n",
       "      <th>308</th>\n",
       "      <td>2024-01-01</td>\n",
       "      <td>2.820281</td>\n",
       "    </tr>\n",
       "  </tbody>\n",
       "</table>\n",
       "<p>309 rows × 2 columns</p>\n",
       "</div>"
      ],
      "text/plain": [
       "           DATE       GDP\n",
       "0    1947-01-01 -0.935496\n",
       "1    1947-04-01 -0.935121\n",
       "2    1947-07-01 -0.934636\n",
       "3    1947-10-01 -0.933276\n",
       "4    1948-01-01 -0.932472\n",
       "..          ...       ...\n",
       "304  2023-01-01  2.623273\n",
       "305  2023-04-01  2.656678\n",
       "306  2023-07-01  2.729957\n",
       "307  2023-10-01  2.776416\n",
       "308  2024-01-01  2.820281\n",
       "\n",
       "[309 rows x 2 columns]"
      ]
     },
     "execution_count": 22,
     "metadata": {},
     "output_type": "execute_result"
    }
   ],
   "source": [
    "# Check the dataframe to make sure the calculation worked as expected \n",
    "gdp"
   ]
  },
  {
   "cell_type": "markdown",
   "id": "1f1a89d2",
   "metadata": {},
   "source": [
    "## EDA: Plotting a time series of adjusted open vs close price\n",
    "\n",
    "As part of your EDA, you'll frequently want to plot two time series on the same graph and using the same axis to compare their movements. \n",
    "\n",
    "Your task:\n",
    "* Plot the Apple open and close price time series on the same chart **for the last three months only**. Be sure to use a legend to label each line\n",
    "\n",
    "**NOTE**: This is a large dataset. If you try to plot the entire series, your graph will be hard to interpret and may take a long time to plot. Be sure to use only the most recent three months of data. "
   ]
  },
  {
   "cell_type": "code",
   "execution_count": 23,
   "id": "9b490f9b",
   "metadata": {},
   "outputs": [
    {
     "data": {
      "text/plain": [
       "Timestamp('2024-05-03 00:00:00')"
      ]
     },
     "execution_count": 23,
     "metadata": {},
     "output_type": "execute_result"
    }
   ],
   "source": [
    "# Get max date in timeseries\n",
    "max_date = apple.Date.max()\n",
    "max_date"
   ]
  },
  {
   "cell_type": "code",
   "execution_count": 24,
   "id": "03b51a20",
   "metadata": {},
   "outputs": [
    {
     "data": {
      "text/plain": [
       "Timestamp('2024-02-03 00:00:00')"
      ]
     },
     "execution_count": 24,
     "metadata": {},
     "output_type": "execute_result"
    }
   ],
   "source": [
    "# Use the max date calculated above to get the last three months of data in the dataset \n",
    "previous_date = max_date - pd.DateOffset(months=3)\n",
    "previous_date"
   ]
  },
  {
   "cell_type": "code",
   "execution_count": 25,
   "id": "37862c96",
   "metadata": {},
   "outputs": [
    {
     "data": {
      "text/html": [
       "<div>\n",
       "<style scoped>\n",
       "    .dataframe tbody tr th:only-of-type {\n",
       "        vertical-align: middle;\n",
       "    }\n",
       "\n",
       "    .dataframe tbody tr th {\n",
       "        vertical-align: top;\n",
       "    }\n",
       "\n",
       "    .dataframe thead th {\n",
       "        text-align: right;\n",
       "    }\n",
       "</style>\n",
       "<table border=\"1\" class=\"dataframe\">\n",
       "  <thead>\n",
       "    <tr style=\"text-align: right;\">\n",
       "      <th></th>\n",
       "      <th>Date</th>\n",
       "      <th>Close/Last</th>\n",
       "      <th>Volume</th>\n",
       "      <th>Open</th>\n",
       "      <th>High</th>\n",
       "      <th>Low</th>\n",
       "    </tr>\n",
       "  </thead>\n",
       "  <tbody>\n",
       "    <tr>\n",
       "      <th>1639</th>\n",
       "      <td>2014-05-06</td>\n",
       "      <td>21.23</td>\n",
       "      <td>373872650.0</td>\n",
       "      <td>21.49</td>\n",
       "      <td>21.59</td>\n",
       "      <td>21.23</td>\n",
       "    </tr>\n",
       "    <tr>\n",
       "      <th>1646</th>\n",
       "      <td>2014-05-07</td>\n",
       "      <td>21.15</td>\n",
       "      <td>282128727.0</td>\n",
       "      <td>21.26</td>\n",
       "      <td>21.33</td>\n",
       "      <td>20.99</td>\n",
       "    </tr>\n",
       "    <tr>\n",
       "      <th>1652</th>\n",
       "      <td>2014-05-08</td>\n",
       "      <td>21.00</td>\n",
       "      <td>228973884.0</td>\n",
       "      <td>21.01</td>\n",
       "      <td>21.23</td>\n",
       "      <td>20.94</td>\n",
       "    </tr>\n",
       "    <tr>\n",
       "      <th>1659</th>\n",
       "      <td>2014-05-09</td>\n",
       "      <td>20.91</td>\n",
       "      <td>291068564.0</td>\n",
       "      <td>20.88</td>\n",
       "      <td>20.94</td>\n",
       "      <td>20.73</td>\n",
       "    </tr>\n",
       "    <tr>\n",
       "      <th>1477</th>\n",
       "      <td>2014-05-12</td>\n",
       "      <td>21.17</td>\n",
       "      <td>212736019.0</td>\n",
       "      <td>20.98</td>\n",
       "      <td>21.20</td>\n",
       "      <td>20.98</td>\n",
       "    </tr>\n",
       "    <tr>\n",
       "      <th>...</th>\n",
       "      <td>...</td>\n",
       "      <td>...</td>\n",
       "      <td>...</td>\n",
       "      <td>...</td>\n",
       "      <td>...</td>\n",
       "      <td>...</td>\n",
       "    </tr>\n",
       "    <tr>\n",
       "      <th>1400</th>\n",
       "      <td>2024-04-29</td>\n",
       "      <td>173.50</td>\n",
       "      <td>68169420.0</td>\n",
       "      <td>173.37</td>\n",
       "      <td>176.03</td>\n",
       "      <td>173.10</td>\n",
       "    </tr>\n",
       "    <tr>\n",
       "      <th>1412</th>\n",
       "      <td>2024-04-30</td>\n",
       "      <td>170.33</td>\n",
       "      <td>65934780.0</td>\n",
       "      <td>173.33</td>\n",
       "      <td>174.99</td>\n",
       "      <td>170.00</td>\n",
       "    </tr>\n",
       "    <tr>\n",
       "      <th>1461</th>\n",
       "      <td>2024-05-01</td>\n",
       "      <td>169.30</td>\n",
       "      <td>50383150.0</td>\n",
       "      <td>169.58</td>\n",
       "      <td>172.71</td>\n",
       "      <td>169.11</td>\n",
       "    </tr>\n",
       "    <tr>\n",
       "      <th>1541</th>\n",
       "      <td>2024-05-02</td>\n",
       "      <td>173.03</td>\n",
       "      <td>94214920.0</td>\n",
       "      <td>172.51</td>\n",
       "      <td>173.42</td>\n",
       "      <td>170.89</td>\n",
       "    </tr>\n",
       "    <tr>\n",
       "      <th>1612</th>\n",
       "      <td>2024-05-03</td>\n",
       "      <td>183.38</td>\n",
       "      <td>163224100.0</td>\n",
       "      <td>186.65</td>\n",
       "      <td>187.00</td>\n",
       "      <td>182.66</td>\n",
       "    </tr>\n",
       "  </tbody>\n",
       "</table>\n",
       "<p>2517 rows × 6 columns</p>\n",
       "</div>"
      ],
      "text/plain": [
       "           Date  Close/Last       Volume    Open    High     Low\n",
       "1639 2014-05-06       21.23  373872650.0   21.49   21.59   21.23\n",
       "1646 2014-05-07       21.15  282128727.0   21.26   21.33   20.99\n",
       "1652 2014-05-08       21.00  228973884.0   21.01   21.23   20.94\n",
       "1659 2014-05-09       20.91  291068564.0   20.88   20.94   20.73\n",
       "1477 2014-05-12       21.17  212736019.0   20.98   21.20   20.98\n",
       "...         ...         ...          ...     ...     ...     ...\n",
       "1400 2024-04-29      173.50   68169420.0  173.37  176.03  173.10\n",
       "1412 2024-04-30      170.33   65934780.0  173.33  174.99  170.00\n",
       "1461 2024-05-01      169.30   50383150.0  169.58  172.71  169.11\n",
       "1541 2024-05-02      173.03   94214920.0  172.51  173.42  170.89\n",
       "1612 2024-05-03      183.38  163224100.0  186.65  187.00  182.66\n",
       "\n",
       "[2517 rows x 6 columns]"
      ]
     },
     "execution_count": 25,
     "metadata": {},
     "output_type": "execute_result"
    }
   ],
   "source": [
    "apple.sort_values(\"Date\", inplace=True)\n",
    "apple"
   ]
  },
  {
   "cell_type": "code",
   "execution_count": 26,
   "id": "039404e1",
   "metadata": {},
   "outputs": [
    {
     "data": {
      "image/png": "[encoded data removed]",
      "text/plain": [
       "<Figure size 640x480 with 1 Axes>"
      ]
     },
     "metadata": {},
     "output_type": "display_data"
    }
   ],
   "source": [
    "# Plot time series of open v. close stock price for Apple using the last 3 months of data\n",
    "apple_last_3_months = apple.loc[apple[\"Date\"] >= previous_date] \\\n",
    "                           .set_index(\"Date\")\n",
    "apple_last_3_months[[\"Open\", \"Close/Last\"]].plot();"
   ]
  },
  {
   "cell_type": "markdown",
   "id": "bc0070c6",
   "metadata": {},
   "source": [
    "## EDA: Plotting a histogram of a stock's closing price in the last three months\n",
    "\n",
    "One way to see how much a stock's price generally moves is to plot the frequency of closing prices over a set time period. \n",
    "\n",
    "Your task:\n",
    "* Use the **last three months** of Apple stock data and plot a histogram of closing price"
   ]
  },
  {
   "cell_type": "code",
   "execution_count": 27,
   "id": "b48760fd",
   "metadata": {},
   "outputs": [
    {
     "data": {
      "image/png": "[encoded data removed]",
      "text/plain": [
       "<Figure size 640x480 with 1 Axes>"
      ]
     },
     "metadata": {},
     "output_type": "display_data"
    }
   ],
   "source": [
    "# Plot the histogram of Apple's closing price over the last 3 months \n",
    "apple_last_3_months[\"Close/Last\"].hist();"
   ]
  },
  {
   "cell_type": "markdown",
   "id": "01e1b22c",
   "metadata": {},
   "source": [
    "## Calculating correlation between a stock price and a macroeconomic variable \n",
    "\n",
    "Inflation affects the purchasing power of money and can influence corporate profits, interest rates, and consumer behavior. By analyzing the correlation between stock prices and inflation, one can gauge how inflationary trends impact stock market performance. For instance, high inflation might erode profit margins and reduce stock prices, while moderate inflation might indicate a growing economy, benefiting stocks.\n",
    "\n",
    "Your task:\n",
    "* Plot a heatmap that shows the correlation between Microsoft and Apple returns and inflation \n",
    "\n",
    "This will require several steps:\n",
    "1. Calculate the returns for Apple and Microsoft and the change in monthly inflation (use the `pct_change` method for each)\n",
    "2. Interpolate the daily stock returns data to monthly so it can be compared to the monthly inflation data\n",
    "3. Merge the stock returns (Apple and Microsoft) and inflation data series into a single dataframe\n",
    "4. Calculate the correlation matrix between the Apple returns, Microsoft returns, and inflation change\n",
    "5. Plot the correlation matrix as a heatmap"
   ]
  },
  {
   "cell_type": "markdown",
   "id": "c38842ed",
   "metadata": {},
   "source": [
    "### 1. Calculate returns for Microsoft / Apple and the monthly change in inflation"
   ]
  },
  {
   "cell_type": "code",
   "execution_count": 28,
   "id": "a112dc12",
   "metadata": {},
   "outputs": [
    {
     "data": {
      "text/html": [
       "<div>\n",
       "<style scoped>\n",
       "    .dataframe tbody tr th:only-of-type {\n",
       "        vertical-align: middle;\n",
       "    }\n",
       "\n",
       "    .dataframe tbody tr th {\n",
       "        vertical-align: top;\n",
       "    }\n",
       "\n",
       "    .dataframe thead th {\n",
       "        text-align: right;\n",
       "    }\n",
       "</style>\n",
       "<table border=\"1\" class=\"dataframe\">\n",
       "  <thead>\n",
       "    <tr style=\"text-align: right;\">\n",
       "      <th></th>\n",
       "      <th>Date</th>\n",
       "      <th>Close/Last</th>\n",
       "      <th>Volume</th>\n",
       "      <th>Open</th>\n",
       "      <th>High</th>\n",
       "      <th>Low</th>\n",
       "      <th>daily_returns</th>\n",
       "    </tr>\n",
       "  </thead>\n",
       "  <tbody>\n",
       "    <tr>\n",
       "      <th>1639</th>\n",
       "      <td>2014-05-06</td>\n",
       "      <td>21.23</td>\n",
       "      <td>373872650.0</td>\n",
       "      <td>21.49</td>\n",
       "      <td>21.59</td>\n",
       "      <td>21.23</td>\n",
       "      <td>NaN</td>\n",
       "    </tr>\n",
       "    <tr>\n",
       "      <th>1646</th>\n",
       "      <td>2014-05-07</td>\n",
       "      <td>21.15</td>\n",
       "      <td>282128727.0</td>\n",
       "      <td>21.26</td>\n",
       "      <td>21.33</td>\n",
       "      <td>20.99</td>\n",
       "      <td>-0.003768</td>\n",
       "    </tr>\n",
       "    <tr>\n",
       "      <th>1652</th>\n",
       "      <td>2014-05-08</td>\n",
       "      <td>21.00</td>\n",
       "      <td>228973884.0</td>\n",
       "      <td>21.01</td>\n",
       "      <td>21.23</td>\n",
       "      <td>20.94</td>\n",
       "      <td>-0.007092</td>\n",
       "    </tr>\n",
       "    <tr>\n",
       "      <th>1659</th>\n",
       "      <td>2014-05-09</td>\n",
       "      <td>20.91</td>\n",
       "      <td>291068564.0</td>\n",
       "      <td>20.88</td>\n",
       "      <td>20.94</td>\n",
       "      <td>20.73</td>\n",
       "      <td>-0.004286</td>\n",
       "    </tr>\n",
       "    <tr>\n",
       "      <th>1477</th>\n",
       "      <td>2014-05-12</td>\n",
       "      <td>21.17</td>\n",
       "      <td>212736019.0</td>\n",
       "      <td>20.98</td>\n",
       "      <td>21.20</td>\n",
       "      <td>20.98</td>\n",
       "      <td>0.012434</td>\n",
       "    </tr>\n",
       "    <tr>\n",
       "      <th>...</th>\n",
       "      <td>...</td>\n",
       "      <td>...</td>\n",
       "      <td>...</td>\n",
       "      <td>...</td>\n",
       "      <td>...</td>\n",
       "      <td>...</td>\n",
       "      <td>...</td>\n",
       "    </tr>\n",
       "    <tr>\n",
       "      <th>1400</th>\n",
       "      <td>2024-04-29</td>\n",
       "      <td>173.50</td>\n",
       "      <td>68169420.0</td>\n",
       "      <td>173.37</td>\n",
       "      <td>176.03</td>\n",
       "      <td>173.10</td>\n",
       "      <td>0.024808</td>\n",
       "    </tr>\n",
       "    <tr>\n",
       "      <th>1412</th>\n",
       "      <td>2024-04-30</td>\n",
       "      <td>170.33</td>\n",
       "      <td>65934780.0</td>\n",
       "      <td>173.33</td>\n",
       "      <td>174.99</td>\n",
       "      <td>170.00</td>\n",
       "      <td>-0.018271</td>\n",
       "    </tr>\n",
       "    <tr>\n",
       "      <th>1461</th>\n",
       "      <td>2024-05-01</td>\n",
       "      <td>169.30</td>\n",
       "      <td>50383150.0</td>\n",
       "      <td>169.58</td>\n",
       "      <td>172.71</td>\n",
       "      <td>169.11</td>\n",
       "      <td>-0.006047</td>\n",
       "    </tr>\n",
       "    <tr>\n",
       "      <th>1541</th>\n",
       "      <td>2024-05-02</td>\n",
       "      <td>173.03</td>\n",
       "      <td>94214920.0</td>\n",
       "      <td>172.51</td>\n",
       "      <td>173.42</td>\n",
       "      <td>170.89</td>\n",
       "      <td>0.022032</td>\n",
       "    </tr>\n",
       "    <tr>\n",
       "      <th>1612</th>\n",
       "      <td>2024-05-03</td>\n",
       "      <td>183.38</td>\n",
       "      <td>163224100.0</td>\n",
       "      <td>186.65</td>\n",
       "      <td>187.00</td>\n",
       "      <td>182.66</td>\n",
       "      <td>0.059816</td>\n",
       "    </tr>\n",
       "  </tbody>\n",
       "</table>\n",
       "<p>2517 rows × 7 columns</p>\n",
       "</div>"
      ],
      "text/plain": [
       "           Date  Close/Last       Volume    Open    High     Low  \\\n",
       "1639 2014-05-06       21.23  373872650.0   21.49   21.59   21.23   \n",
       "1646 2014-05-07       21.15  282128727.0   21.26   21.33   20.99   \n",
       "1652 2014-05-08       21.00  228973884.0   21.01   21.23   20.94   \n",
       "1659 2014-05-09       20.91  291068564.0   20.88   20.94   20.73   \n",
       "1477 2014-05-12       21.17  212736019.0   20.98   21.20   20.98   \n",
       "...         ...         ...          ...     ...     ...     ...   \n",
       "1400 2024-04-29      173.50   68169420.0  173.37  176.03  173.10   \n",
       "1412 2024-04-30      170.33   65934780.0  173.33  174.99  170.00   \n",
       "1461 2024-05-01      169.30   50383150.0  169.58  172.71  169.11   \n",
       "1541 2024-05-02      173.03   94214920.0  172.51  173.42  170.89   \n",
       "1612 2024-05-03      183.38  163224100.0  186.65  187.00  182.66   \n",
       "\n",
       "      daily_returns  \n",
       "1639            NaN  \n",
       "1646      -0.003768  \n",
       "1652      -0.007092  \n",
       "1659      -0.004286  \n",
       "1477       0.012434  \n",
       "...             ...  \n",
       "1400       0.024808  \n",
       "1412      -0.018271  \n",
       "1461      -0.006047  \n",
       "1541       0.022032  \n",
       "1612       0.059816  \n",
       "\n",
       "[2517 rows x 7 columns]"
      ]
     },
     "metadata": {},
     "output_type": "display_data"
    },
    {
     "data": {
      "text/html": [
       "<div>\n",
       "<style scoped>\n",
       "    .dataframe tbody tr th:only-of-type {\n",
       "        vertical-align: middle;\n",
       "    }\n",
       "\n",
       "    .dataframe tbody tr th {\n",
       "        vertical-align: top;\n",
       "    }\n",
       "\n",
       "    .dataframe thead th {\n",
       "        text-align: right;\n",
       "    }\n",
       "</style>\n",
       "<table border=\"1\" class=\"dataframe\">\n",
       "  <thead>\n",
       "    <tr style=\"text-align: right;\">\n",
       "      <th></th>\n",
       "      <th>Date</th>\n",
       "      <th>Close/Last</th>\n",
       "      <th>Volume</th>\n",
       "      <th>Open</th>\n",
       "      <th>High</th>\n",
       "      <th>Low</th>\n",
       "      <th>daily_returns</th>\n",
       "    </tr>\n",
       "  </thead>\n",
       "  <tbody>\n",
       "    <tr>\n",
       "      <th>2516</th>\n",
       "      <td>2014-05-06</td>\n",
       "      <td>39.060</td>\n",
       "      <td>27105700.0</td>\n",
       "      <td>39.29</td>\n",
       "      <td>39.3500</td>\n",
       "      <td>38.9500</td>\n",
       "      <td>NaN</td>\n",
       "    </tr>\n",
       "    <tr>\n",
       "      <th>2515</th>\n",
       "      <td>2014-05-07</td>\n",
       "      <td>39.425</td>\n",
       "      <td>41731030.0</td>\n",
       "      <td>39.22</td>\n",
       "      <td>39.5100</td>\n",
       "      <td>38.5100</td>\n",
       "      <td>0.009345</td>\n",
       "    </tr>\n",
       "    <tr>\n",
       "      <th>2514</th>\n",
       "      <td>2014-05-08</td>\n",
       "      <td>39.640</td>\n",
       "      <td>32089010.0</td>\n",
       "      <td>39.34</td>\n",
       "      <td>39.9000</td>\n",
       "      <td>38.9700</td>\n",
       "      <td>0.005453</td>\n",
       "    </tr>\n",
       "    <tr>\n",
       "      <th>2513</th>\n",
       "      <td>2014-05-09</td>\n",
       "      <td>39.540</td>\n",
       "      <td>29646100.0</td>\n",
       "      <td>39.54</td>\n",
       "      <td>39.8500</td>\n",
       "      <td>39.3700</td>\n",
       "      <td>-0.002523</td>\n",
       "    </tr>\n",
       "    <tr>\n",
       "      <th>2512</th>\n",
       "      <td>2014-05-12</td>\n",
       "      <td>39.970</td>\n",
       "      <td>22761620.0</td>\n",
       "      <td>39.74</td>\n",
       "      <td>40.0200</td>\n",
       "      <td>39.6500</td>\n",
       "      <td>0.010875</td>\n",
       "    </tr>\n",
       "    <tr>\n",
       "      <th>...</th>\n",
       "      <td>...</td>\n",
       "      <td>...</td>\n",
       "      <td>...</td>\n",
       "      <td>...</td>\n",
       "      <td>...</td>\n",
       "      <td>...</td>\n",
       "      <td>...</td>\n",
       "    </tr>\n",
       "    <tr>\n",
       "      <th>4</th>\n",
       "      <td>2024-04-29</td>\n",
       "      <td>402.250</td>\n",
       "      <td>19582090.0</td>\n",
       "      <td>405.25</td>\n",
       "      <td>406.3200</td>\n",
       "      <td>399.1900</td>\n",
       "      <td>-0.010017</td>\n",
       "    </tr>\n",
       "    <tr>\n",
       "      <th>3</th>\n",
       "      <td>2024-04-30</td>\n",
       "      <td>389.330</td>\n",
       "      <td>28781370.0</td>\n",
       "      <td>401.49</td>\n",
       "      <td>402.1600</td>\n",
       "      <td>389.1700</td>\n",
       "      <td>-0.032119</td>\n",
       "    </tr>\n",
       "    <tr>\n",
       "      <th>2</th>\n",
       "      <td>2024-05-01</td>\n",
       "      <td>394.940</td>\n",
       "      <td>23562480.0</td>\n",
       "      <td>392.61</td>\n",
       "      <td>401.7199</td>\n",
       "      <td>390.3100</td>\n",
       "      <td>0.014409</td>\n",
       "    </tr>\n",
       "    <tr>\n",
       "      <th>1</th>\n",
       "      <td>2024-05-02</td>\n",
       "      <td>397.840</td>\n",
       "      <td>17709360.0</td>\n",
       "      <td>397.66</td>\n",
       "      <td>399.9300</td>\n",
       "      <td>394.6515</td>\n",
       "      <td>0.007343</td>\n",
       "    </tr>\n",
       "    <tr>\n",
       "      <th>0</th>\n",
       "      <td>2024-05-03</td>\n",
       "      <td>406.660</td>\n",
       "      <td>17446720.0</td>\n",
       "      <td>402.28</td>\n",
       "      <td>407.1500</td>\n",
       "      <td>401.8600</td>\n",
       "      <td>0.022170</td>\n",
       "    </tr>\n",
       "  </tbody>\n",
       "</table>\n",
       "<p>2517 rows × 7 columns</p>\n",
       "</div>"
      ],
      "text/plain": [
       "           Date  Close/Last      Volume    Open      High       Low  \\\n",
       "2516 2014-05-06      39.060  27105700.0   39.29   39.3500   38.9500   \n",
       "2515 2014-05-07      39.425  41731030.0   39.22   39.5100   38.5100   \n",
       "2514 2014-05-08      39.640  32089010.0   39.34   39.9000   38.9700   \n",
       "2513 2014-05-09      39.540  29646100.0   39.54   39.8500   39.3700   \n",
       "2512 2014-05-12      39.970  22761620.0   39.74   40.0200   39.6500   \n",
       "...         ...         ...         ...     ...       ...       ...   \n",
       "4    2024-04-29     402.250  19582090.0  405.25  406.3200  399.1900   \n",
       "3    2024-04-30     389.330  28781370.0  401.49  402.1600  389.1700   \n",
       "2    2024-05-01     394.940  23562480.0  392.61  401.7199  390.3100   \n",
       "1    2024-05-02     397.840  17709360.0  397.66  399.9300  394.6515   \n",
       "0    2024-05-03     406.660  17446720.0  402.28  407.1500  401.8600   \n",
       "\n",
       "      daily_returns  \n",
       "2516            NaN  \n",
       "2515       0.009345  \n",
       "2514       0.005453  \n",
       "2513      -0.002523  \n",
       "2512       0.010875  \n",
       "...             ...  \n",
       "4         -0.010017  \n",
       "3         -0.032119  \n",
       "2          0.014409  \n",
       "1          0.007343  \n",
       "0          0.022170  \n",
       "\n",
       "[2517 rows x 7 columns]"
      ]
     },
     "metadata": {},
     "output_type": "display_data"
    },
    {
     "data": {
      "text/html": [
       "<div>\n",
       "<style scoped>\n",
       "    .dataframe tbody tr th:only-of-type {\n",
       "        vertical-align: middle;\n",
       "    }\n",
       "\n",
       "    .dataframe tbody tr th {\n",
       "        vertical-align: top;\n",
       "    }\n",
       "\n",
       "    .dataframe thead th {\n",
       "        text-align: right;\n",
       "    }\n",
       "</style>\n",
       "<table border=\"1\" class=\"dataframe\">\n",
       "  <thead>\n",
       "    <tr style=\"text-align: right;\">\n",
       "      <th></th>\n",
       "      <th>DATE</th>\n",
       "      <th>CORESTICKM159SFRBATL</th>\n",
       "      <th>monthly_variation</th>\n",
       "    </tr>\n",
       "  </thead>\n",
       "  <tbody>\n",
       "    <tr>\n",
       "      <th>0</th>\n",
       "      <td>1968-01-31</td>\n",
       "      <td>3.651861</td>\n",
       "      <td>NaN</td>\n",
       "    </tr>\n",
       "    <tr>\n",
       "      <th>1</th>\n",
       "      <td>1968-02-29</td>\n",
       "      <td>3.673819</td>\n",
       "      <td>0.006013</td>\n",
       "    </tr>\n",
       "    <tr>\n",
       "      <th>2</th>\n",
       "      <td>1968-03-31</td>\n",
       "      <td>4.142164</td>\n",
       "      <td>0.127482</td>\n",
       "    </tr>\n",
       "    <tr>\n",
       "      <th>3</th>\n",
       "      <td>1968-04-30</td>\n",
       "      <td>4.155828</td>\n",
       "      <td>0.003299</td>\n",
       "    </tr>\n",
       "    <tr>\n",
       "      <th>4</th>\n",
       "      <td>1968-05-31</td>\n",
       "      <td>4.088245</td>\n",
       "      <td>-0.016262</td>\n",
       "    </tr>\n",
       "    <tr>\n",
       "      <th>...</th>\n",
       "      <td>...</td>\n",
       "      <td>...</td>\n",
       "      <td>...</td>\n",
       "    </tr>\n",
       "    <tr>\n",
       "      <th>670</th>\n",
       "      <td>2023-11-30</td>\n",
       "      <td>4.688293</td>\n",
       "      <td>-0.039860</td>\n",
       "    </tr>\n",
       "    <tr>\n",
       "      <th>671</th>\n",
       "      <td>2023-12-31</td>\n",
       "      <td>4.554396</td>\n",
       "      <td>-0.028560</td>\n",
       "    </tr>\n",
       "    <tr>\n",
       "      <th>672</th>\n",
       "      <td>2024-01-31</td>\n",
       "      <td>4.603922</td>\n",
       "      <td>0.010874</td>\n",
       "    </tr>\n",
       "    <tr>\n",
       "      <th>673</th>\n",
       "      <td>2024-02-29</td>\n",
       "      <td>4.403102</td>\n",
       "      <td>-0.043619</td>\n",
       "    </tr>\n",
       "    <tr>\n",
       "      <th>674</th>\n",
       "      <td>2024-03-31</td>\n",
       "      <td>4.509212</td>\n",
       "      <td>0.024099</td>\n",
       "    </tr>\n",
       "  </tbody>\n",
       "</table>\n",
       "<p>675 rows × 3 columns</p>\n",
       "</div>"
      ],
      "text/plain": [
       "          DATE  CORESTICKM159SFRBATL  monthly_variation\n",
       "0   1968-01-31              3.651861                NaN\n",
       "1   1968-02-29              3.673819           0.006013\n",
       "2   1968-03-31              4.142164           0.127482\n",
       "3   1968-04-30              4.155828           0.003299\n",
       "4   1968-05-31              4.088245          -0.016262\n",
       "..         ...                   ...                ...\n",
       "670 2023-11-30              4.688293          -0.039860\n",
       "671 2023-12-31              4.554396          -0.028560\n",
       "672 2024-01-31              4.603922           0.010874\n",
       "673 2024-02-29              4.403102          -0.043619\n",
       "674 2024-03-31              4.509212           0.024099\n",
       "\n",
       "[675 rows x 3 columns]"
      ]
     },
     "metadata": {},
     "output_type": "display_data"
    }
   ],
   "source": [
    "# Calculate daily returns for Apple and Microsoft and the percent change in inflation from month to month\n",
    "apple.sort_values('Date', inplace=True)\n",
    "apple['daily_returns'] = apple['Close/Last'].pct_change()\n",
    "display(apple)\n",
    "\n",
    "msoft.sort_values('Date', inplace=True)\n",
    "msoft['daily_returns'] = msoft['Close/Last'].pct_change()\n",
    "display(msoft)\n",
    "\n",
    "inflation.sort_values('DATE', inplace=True)\n",
    "inflation['monthly_variation'] = inflation['CORESTICKM159SFRBATL'].pct_change()\n",
    "display(inflation)"
   ]
  },
  {
   "cell_type": "markdown",
   "id": "c8aa1b91",
   "metadata": {},
   "source": [
    "### 2. Interpolate stock returns from daily to monthly"
   ]
  },
  {
   "cell_type": "code",
   "execution_count": 29,
   "id": "9300a530",
   "metadata": {},
   "outputs": [
    {
     "data": {
      "text/html": [
       "<div>\n",
       "<style scoped>\n",
       "    .dataframe tbody tr th:only-of-type {\n",
       "        vertical-align: middle;\n",
       "    }\n",
       "\n",
       "    .dataframe tbody tr th {\n",
       "        vertical-align: top;\n",
       "    }\n",
       "\n",
       "    .dataframe thead th {\n",
       "        text-align: right;\n",
       "    }\n",
       "</style>\n",
       "<table border=\"1\" class=\"dataframe\">\n",
       "  <thead>\n",
       "    <tr style=\"text-align: right;\">\n",
       "      <th></th>\n",
       "      <th>Date</th>\n",
       "      <th>daily_returns</th>\n",
       "    </tr>\n",
       "  </thead>\n",
       "  <tbody>\n",
       "    <tr>\n",
       "      <th>0</th>\n",
       "      <td>2014-05-31</td>\n",
       "      <td>NaN</td>\n",
       "    </tr>\n",
       "    <tr>\n",
       "      <th>1</th>\n",
       "      <td>2014-06-30</td>\n",
       "      <td>0.010000</td>\n",
       "    </tr>\n",
       "    <tr>\n",
       "      <th>2</th>\n",
       "      <td>2014-07-31</td>\n",
       "      <td>-0.026080</td>\n",
       "    </tr>\n",
       "    <tr>\n",
       "      <th>3</th>\n",
       "      <td>2014-08-31</td>\n",
       "      <td>-0.009844</td>\n",
       "    </tr>\n",
       "    <tr>\n",
       "      <th>4</th>\n",
       "      <td>2014-09-30</td>\n",
       "      <td>0.006392</td>\n",
       "    </tr>\n",
       "    <tr>\n",
       "      <th>...</th>\n",
       "      <td>...</td>\n",
       "      <td>...</td>\n",
       "    </tr>\n",
       "    <tr>\n",
       "      <th>116</th>\n",
       "      <td>2024-01-31</td>\n",
       "      <td>-0.019358</td>\n",
       "    </tr>\n",
       "    <tr>\n",
       "      <th>117</th>\n",
       "      <td>2024-02-29</td>\n",
       "      <td>-0.003693</td>\n",
       "    </tr>\n",
       "    <tr>\n",
       "      <th>118</th>\n",
       "      <td>2024-03-31</td>\n",
       "      <td>-0.010982</td>\n",
       "    </tr>\n",
       "    <tr>\n",
       "      <th>119</th>\n",
       "      <td>2024-04-30</td>\n",
       "      <td>-0.018271</td>\n",
       "    </tr>\n",
       "    <tr>\n",
       "      <th>120</th>\n",
       "      <td>2024-05-31</td>\n",
       "      <td>-0.018271</td>\n",
       "    </tr>\n",
       "  </tbody>\n",
       "</table>\n",
       "<p>121 rows × 2 columns</p>\n",
       "</div>"
      ],
      "text/plain": [
       "          Date  daily_returns\n",
       "0   2014-05-31            NaN\n",
       "1   2014-06-30       0.010000\n",
       "2   2014-07-31      -0.026080\n",
       "3   2014-08-31      -0.009844\n",
       "4   2014-09-30       0.006392\n",
       "..         ...            ...\n",
       "116 2024-01-31      -0.019358\n",
       "117 2024-02-29      -0.003693\n",
       "118 2024-03-31      -0.010982\n",
       "119 2024-04-30      -0.018271\n",
       "120 2024-05-31      -0.018271\n",
       "\n",
       "[121 rows x 2 columns]"
      ]
     },
     "metadata": {},
     "output_type": "display_data"
    },
    {
     "data": {
      "text/html": [
       "<div>\n",
       "<style scoped>\n",
       "    .dataframe tbody tr th:only-of-type {\n",
       "        vertical-align: middle;\n",
       "    }\n",
       "\n",
       "    .dataframe tbody tr th {\n",
       "        vertical-align: top;\n",
       "    }\n",
       "\n",
       "    .dataframe thead th {\n",
       "        text-align: right;\n",
       "    }\n",
       "</style>\n",
       "<table border=\"1\" class=\"dataframe\">\n",
       "  <thead>\n",
       "    <tr style=\"text-align: right;\">\n",
       "      <th></th>\n",
       "      <th>Date</th>\n",
       "      <th>daily_returns</th>\n",
       "    </tr>\n",
       "  </thead>\n",
       "  <tbody>\n",
       "    <tr>\n",
       "      <th>0</th>\n",
       "      <td>2014-05-31</td>\n",
       "      <td>NaN</td>\n",
       "    </tr>\n",
       "    <tr>\n",
       "      <th>1</th>\n",
       "      <td>2014-06-30</td>\n",
       "      <td>-0.013018</td>\n",
       "    </tr>\n",
       "    <tr>\n",
       "      <th>2</th>\n",
       "      <td>2014-07-31</td>\n",
       "      <td>-0.009603</td>\n",
       "    </tr>\n",
       "    <tr>\n",
       "      <th>3</th>\n",
       "      <td>2014-08-31</td>\n",
       "      <td>-0.005663</td>\n",
       "    </tr>\n",
       "    <tr>\n",
       "      <th>4</th>\n",
       "      <td>2014-09-30</td>\n",
       "      <td>-0.001723</td>\n",
       "    </tr>\n",
       "    <tr>\n",
       "      <th>...</th>\n",
       "      <td>...</td>\n",
       "      <td>...</td>\n",
       "    </tr>\n",
       "    <tr>\n",
       "      <th>116</th>\n",
       "      <td>2024-01-31</td>\n",
       "      <td>-0.026946</td>\n",
       "    </tr>\n",
       "    <tr>\n",
       "      <th>117</th>\n",
       "      <td>2024-02-29</td>\n",
       "      <td>0.014520</td>\n",
       "    </tr>\n",
       "    <tr>\n",
       "      <th>118</th>\n",
       "      <td>2024-03-31</td>\n",
       "      <td>-0.008800</td>\n",
       "    </tr>\n",
       "    <tr>\n",
       "      <th>119</th>\n",
       "      <td>2024-04-30</td>\n",
       "      <td>-0.032119</td>\n",
       "    </tr>\n",
       "    <tr>\n",
       "      <th>120</th>\n",
       "      <td>2024-05-31</td>\n",
       "      <td>-0.032119</td>\n",
       "    </tr>\n",
       "  </tbody>\n",
       "</table>\n",
       "<p>121 rows × 2 columns</p>\n",
       "</div>"
      ],
      "text/plain": [
       "          Date  daily_returns\n",
       "0   2014-05-31            NaN\n",
       "1   2014-06-30      -0.013018\n",
       "2   2014-07-31      -0.009603\n",
       "3   2014-08-31      -0.005663\n",
       "4   2014-09-30      -0.001723\n",
       "..         ...            ...\n",
       "116 2024-01-31      -0.026946\n",
       "117 2024-02-29       0.014520\n",
       "118 2024-03-31      -0.008800\n",
       "119 2024-04-30      -0.032119\n",
       "120 2024-05-31      -0.032119\n",
       "\n",
       "[121 rows x 2 columns]"
      ]
     },
     "metadata": {},
     "output_type": "display_data"
    }
   ],
   "source": [
    "apple_monthly = apple.set_index('Date')['daily_returns'] \\\n",
    "                     .resample(\"ME\").interpolate() \\\n",
    "                     .reset_index()\n",
    "display(apple_monthly)\n",
    "\n",
    "msoft_monthly = msoft.set_index('Date')['daily_returns'] \\\n",
    "                     .resample(\"ME\").interpolate() \\\n",
    "                     .reset_index()\n",
    "display(msoft_monthly)"
   ]
  },
  {
   "cell_type": "markdown",
   "id": "268272e6",
   "metadata": {},
   "source": [
    "### 3. Merge the dataframes and calculate / plot the correlation"
   ]
  },
  {
   "cell_type": "code",
   "execution_count": 30,
   "id": "0defb97b",
   "metadata": {},
   "outputs": [
    {
     "data": {
      "text/html": [
       "<div>\n",
       "<style scoped>\n",
       "    .dataframe tbody tr th:only-of-type {\n",
       "        vertical-align: middle;\n",
       "    }\n",
       "\n",
       "    .dataframe tbody tr th {\n",
       "        vertical-align: top;\n",
       "    }\n",
       "\n",
       "    .dataframe thead th {\n",
       "        text-align: right;\n",
       "    }\n",
       "</style>\n",
       "<table border=\"1\" class=\"dataframe\">\n",
       "  <thead>\n",
       "    <tr style=\"text-align: right;\">\n",
       "      <th></th>\n",
       "      <th>Apple</th>\n",
       "      <th>Microsoft</th>\n",
       "      <th>inflation</th>\n",
       "    </tr>\n",
       "    <tr>\n",
       "      <th>Date</th>\n",
       "      <th></th>\n",
       "      <th></th>\n",
       "      <th></th>\n",
       "    </tr>\n",
       "  </thead>\n",
       "  <tbody>\n",
       "    <tr>\n",
       "      <th>2014-06-30</th>\n",
       "      <td>0.010000</td>\n",
       "      <td>-0.013018</td>\n",
       "      <td>0.007147</td>\n",
       "    </tr>\n",
       "    <tr>\n",
       "      <th>2014-07-31</th>\n",
       "      <td>-0.026080</td>\n",
       "      <td>-0.009603</td>\n",
       "      <td>-0.020724</td>\n",
       "    </tr>\n",
       "    <tr>\n",
       "      <th>2014-08-31</th>\n",
       "      <td>-0.009844</td>\n",
       "      <td>-0.005663</td>\n",
       "      <td>-0.066387</td>\n",
       "    </tr>\n",
       "    <tr>\n",
       "      <th>2014-09-30</th>\n",
       "      <td>0.006392</td>\n",
       "      <td>-0.001723</td>\n",
       "      <td>-0.004516</td>\n",
       "    </tr>\n",
       "    <tr>\n",
       "      <th>2014-10-31</th>\n",
       "      <td>0.009346</td>\n",
       "      <td>0.019544</td>\n",
       "      <td>0.026302</td>\n",
       "    </tr>\n",
       "    <tr>\n",
       "      <th>...</th>\n",
       "      <td>...</td>\n",
       "      <td>...</td>\n",
       "      <td>...</td>\n",
       "    </tr>\n",
       "    <tr>\n",
       "      <th>2023-11-30</th>\n",
       "      <td>0.003063</td>\n",
       "      <td>0.000158</td>\n",
       "      <td>-0.039860</td>\n",
       "    </tr>\n",
       "    <tr>\n",
       "      <th>2023-12-31</th>\n",
       "      <td>-0.008147</td>\n",
       "      <td>-0.013394</td>\n",
       "      <td>-0.028560</td>\n",
       "    </tr>\n",
       "    <tr>\n",
       "      <th>2024-01-31</th>\n",
       "      <td>-0.019358</td>\n",
       "      <td>-0.026946</td>\n",
       "      <td>0.010874</td>\n",
       "    </tr>\n",
       "    <tr>\n",
       "      <th>2024-02-29</th>\n",
       "      <td>-0.003693</td>\n",
       "      <td>0.014520</td>\n",
       "      <td>-0.043619</td>\n",
       "    </tr>\n",
       "    <tr>\n",
       "      <th>2024-03-31</th>\n",
       "      <td>-0.010982</td>\n",
       "      <td>-0.008800</td>\n",
       "      <td>0.024099</td>\n",
       "    </tr>\n",
       "  </tbody>\n",
       "</table>\n",
       "<p>118 rows × 3 columns</p>\n",
       "</div>"
      ],
      "text/plain": [
       "               Apple  Microsoft  inflation\n",
       "Date                                      \n",
       "2014-06-30  0.010000  -0.013018   0.007147\n",
       "2014-07-31 -0.026080  -0.009603  -0.020724\n",
       "2014-08-31 -0.009844  -0.005663  -0.066387\n",
       "2014-09-30  0.006392  -0.001723  -0.004516\n",
       "2014-10-31  0.009346   0.019544   0.026302\n",
       "...              ...        ...        ...\n",
       "2023-11-30  0.003063   0.000158  -0.039860\n",
       "2023-12-31 -0.008147  -0.013394  -0.028560\n",
       "2024-01-31 -0.019358  -0.026946   0.010874\n",
       "2024-02-29 -0.003693   0.014520  -0.043619\n",
       "2024-03-31 -0.010982  -0.008800   0.024099\n",
       "\n",
       "[118 rows x 3 columns]"
      ]
     },
     "execution_count": 30,
     "metadata": {},
     "output_type": "execute_result"
    }
   ],
   "source": [
    "macro = pd.merge(apple_monthly, msoft_monthly, on='Date') \\\n",
    "           .rename(columns={'daily_returns_x': 'Apple', 'daily_returns_y': 'Microsoft'})\n",
    "macro = pd.merge(macro, inflation, left_on='Date', right_on='DATE') \\\n",
    "           .rename(columns={'monthly_variation': 'inflation'})\n",
    "del macro['DATE'], macro['CORESTICKM159SFRBATL']\n",
    "macro.dropna(inplace=True)\n",
    "macro.set_index('Date', inplace=True)\n",
    "macro"
   ]
  },
  {
   "cell_type": "markdown",
   "id": "e1352272",
   "metadata": {},
   "source": [
    "### 4. Calculate the correlation matrix between the Apple returns, Microsoft returns, and inflation change"
   ]
  },
  {
   "cell_type": "code",
   "execution_count": 31,
   "id": "8176f9ff",
   "metadata": {},
   "outputs": [
    {
     "data": {
      "text/html": [
       "<div>\n",
       "<style scoped>\n",
       "    .dataframe tbody tr th:only-of-type {\n",
       "        vertical-align: middle;\n",
       "    }\n",
       "\n",
       "    .dataframe tbody tr th {\n",
       "        vertical-align: top;\n",
       "    }\n",
       "\n",
       "    .dataframe thead th {\n",
       "        text-align: right;\n",
       "    }\n",
       "</style>\n",
       "<table border=\"1\" class=\"dataframe\">\n",
       "  <thead>\n",
       "    <tr style=\"text-align: right;\">\n",
       "      <th></th>\n",
       "      <th>Apple</th>\n",
       "      <th>Microsoft</th>\n",
       "      <th>inflation</th>\n",
       "    </tr>\n",
       "  </thead>\n",
       "  <tbody>\n",
       "    <tr>\n",
       "      <th>Apple</th>\n",
       "      <td>1.000000</td>\n",
       "      <td>0.441415</td>\n",
       "      <td>0.020572</td>\n",
       "    </tr>\n",
       "    <tr>\n",
       "      <th>Microsoft</th>\n",
       "      <td>0.441415</td>\n",
       "      <td>1.000000</td>\n",
       "      <td>-0.136369</td>\n",
       "    </tr>\n",
       "    <tr>\n",
       "      <th>inflation</th>\n",
       "      <td>0.020572</td>\n",
       "      <td>-0.136369</td>\n",
       "      <td>1.000000</td>\n",
       "    </tr>\n",
       "  </tbody>\n",
       "</table>\n",
       "</div>"
      ],
      "text/plain": [
       "              Apple  Microsoft  inflation\n",
       "Apple      1.000000   0.441415   0.020572\n",
       "Microsoft  0.441415   1.000000  -0.136369\n",
       "inflation  0.020572  -0.136369   1.000000"
      ]
     },
     "execution_count": 31,
     "metadata": {},
     "output_type": "execute_result"
    }
   ],
   "source": [
    "# Calculate correlation matrix\n",
    "cx = macro.corr()\n",
    "cx"
   ]
  },
  {
   "cell_type": "markdown",
   "id": "43b0ac07",
   "metadata": {},
   "source": [
    "### 5. Plot the correlation matrix as a heatmap "
   ]
  },
  {
   "cell_type": "code",
   "execution_count": 32,
   "id": "6db318a8",
   "metadata": {},
   "outputs": [
    {
     "data": {
      "application/vnd.plotly.v1+json": {
       "config": {
        "plotlyServerURL": "https://plot.ly"
       },
       "data": [
        {
         "coloraxis": "coloraxis",
         "hovertemplate": "x: %{x}<br>y: %{y}<br>color: %{z}<extra></extra>",
         "name": "0",
         "texttemplate": "%{z}",
         "type": "heatmap",
         "x": [
          "Apple",
          "Microsoft",
          "inflation"
         ],
         "xaxis": "x",
         "y": [
          "Apple",
          "Microsoft",
          "inflation"
         ],
         "yaxis": "y",
         "z": {
          "bdata": "AAAAAAAA8D89p3XyIkDcP3dP7xrVEJU/Pad18iJA3D8AAAAAAADwP24MHjqJdMG/d0/vGtUQlT9uDB46iXTBvwAAAAAAAPA/",
          "dtype": "f8",
          "shape": "3, 3"
         }
        }
       ],
       "layout": {
        "coloraxis": {
         "colorscale": [
          [
           0,
           "#0d0887"
          ],
          [
           0.1111111111111111,
           "#46039f"
          ],
          [
           0.2222222222222222,
           "#7201a8"
          ],
          [
           0.3333333333333333,
           "#9c179e"
          ],
          [
           0.4444444444444444,
           "#bd3786"
          ],
          [
           0.5555555555555556,
           "#d8576b"
          ],
          [
           0.6666666666666666,
           "#ed7953"
          ],
          [
           0.7777777777777778,
           "#fb9f3a"
          ],
          [
           0.8888888888888888,
           "#fdca26"
          ],
          [
           1,
           "#f0f921"
          ]
         ]
        },
        "margin": {
         "t": 60
        },
        "template": {
         "data": {
          "bar": [
           {
            "error_x": {
             "color": "#2a3f5f"
            },
            "error_y": {
             "color": "#2a3f5f"
            },
            "marker": {
             "line": {
              "color": "#E5ECF6",
              "width": 0.5
             },
             "pattern": {
              "fillmode": "overlay",
              "size": 10,
              "solidity": 0.2
             }
            },
            "type": "bar"
           }
          ],
          "barpolar": [
           {
            "marker": {
             "line": {
              "color": "#E5ECF6",
              "width": 0.5
             },
             "pattern": {
              "fillmode": "overlay",
              "size": 10,
              "solidity": 0.2
             }
            },
            "type": "barpolar"
           }
          ],
          "carpet": [
           {
            "aaxis": {
             "endlinecolor": "#2a3f5f",
             "gridcolor": "white",
             "linecolor": "white",
             "minorgridcolor": "white",
             "startlinecolor": "#2a3f5f"
            },
            "baxis": {
             "endlinecolor": "#2a3f5f",
             "gridcolor": "white",
             "linecolor": "white",
             "minorgridcolor": "white",
             "startlinecolor": "#2a3f5f"
            },
            "type": "carpet"
           }
          ],
          "choropleth": [
           {
            "colorbar": {
             "outlinewidth": 0,
             "ticks": ""
            },
            "type": "choropleth"
           }
          ],
          "contour": [
           {
            "colorbar": {
             "outlinewidth": 0,
             "ticks": ""
            },
            "colorscale": [
             [
              0,
              "#0d0887"
             ],
             [
              0.1111111111111111,
              "#46039f"
             ],
             [
              0.2222222222222222,
              "#7201a8"
             ],
             [
              0.3333333333333333,
              "#9c179e"
             ],
             [
              0.4444444444444444,
              "#bd3786"
             ],
             [
              0.5555555555555556,
              "#d8576b"
             ],
             [
              0.6666666666666666,
              "#ed7953"
             ],
             [
              0.7777777777777778,
              "#fb9f3a"
             ],
             [
              0.8888888888888888,
              "#fdca26"
             ],
             [
              1,
              "#f0f921"
             ]
            ],
            "type": "contour"
           }
          ],
          "contourcarpet": [
           {
            "colorbar": {
             "outlinewidth": 0,
             "ticks": ""
            },
            "type": "contourcarpet"
           }
          ],
          "heatmap": [
           {
            "colorbar": {
             "outlinewidth": 0,
             "ticks": ""
            },
            "colorscale": [
             [
              0,
              "#0d0887"
             ],
             [
              0.1111111111111111,
              "#46039f"
             ],
             [
              0.2222222222222222,
              "#7201a8"
             ],
             [
              0.3333333333333333,
              "#9c179e"
             ],
             [
              0.4444444444444444,
              "#bd3786"
             ],
             [
              0.5555555555555556,
              "#d8576b"
             ],
             [
              0.6666666666666666,
              "#ed7953"
             ],
             [
              0.7777777777777778,
              "#fb9f3a"
             ],
             [
              0.8888888888888888,
              "#fdca26"
             ],
             [
              1,
              "#f0f921"
             ]
            ],
            "type": "heatmap"
           }
          ],
          "histogram": [
           {
            "marker": {
             "pattern": {
              "fillmode": "overlay",
              "size": 10,
              "solidity": 0.2
             }
            },
            "type": "histogram"
           }
          ],
          "histogram2d": [
           {
            "colorbar": {
             "outlinewidth": 0,
             "ticks": ""
            },
            "colorscale": [
             [
              0,
              "#0d0887"
             ],
             [
              0.1111111111111111,
              "#46039f"
             ],
             [
              0.2222222222222222,
              "#7201a8"
             ],
             [
              0.3333333333333333,
              "#9c179e"
             ],
             [
              0.4444444444444444,
              "#bd3786"
             ],
             [
              0.5555555555555556,
              "#d8576b"
             ],
             [
              0.6666666666666666,
              "#ed7953"
             ],
             [
              0.7777777777777778,
              "#fb9f3a"
             ],
             [
              0.8888888888888888,
              "#fdca26"
             ],
             [
              1,
              "#f0f921"
             ]
            ],
            "type": "histogram2d"
           }
          ],
          "histogram2dcontour": [
           {
            "colorbar": {
             "outlinewidth": 0,
             "ticks": ""
            },
            "colorscale": [
             [
              0,
              "#0d0887"
             ],
             [
              0.1111111111111111,
              "#46039f"
             ],
             [
              0.2222222222222222,
              "#7201a8"
             ],
             [
              0.3333333333333333,
              "#9c179e"
             ],
             [
              0.4444444444444444,
              "#bd3786"
             ],
             [
              0.5555555555555556,
              "#d8576b"
             ],
             [
              0.6666666666666666,
              "#ed7953"
             ],
             [
              0.7777777777777778,
              "#fb9f3a"
             ],
             [
              0.8888888888888888,
              "#fdca26"
             ],
             [
              1,
              "#f0f921"
             ]
            ],
            "type": "histogram2dcontour"
           }
          ],
          "mesh3d": [
           {
            "colorbar": {
             "outlinewidth": 0,
             "ticks": ""
            },
            "type": "mesh3d"
           }
          ],
          "parcoords": [
           {
            "line": {
             "colorbar": {
              "outlinewidth": 0,
              "ticks": ""
             }
            },
            "type": "parcoords"
           }
          ],
          "pie": [
           {
            "automargin": true,
            "type": "pie"
           }
          ],
          "scatter": [
           {
            "fillpattern": {
             "fillmode": "overlay",
             "size": 10,
             "solidity": 0.2
            },
            "type": "scatter"
           }
          ],
          "scatter3d": [
           {
            "line": {
             "colorbar": {
              "outlinewidth": 0,
              "ticks": ""
             }
            },
            "marker": {
             "colorbar": {
              "outlinewidth": 0,
              "ticks": ""
             }
            },
            "type": "scatter3d"
           }
          ],
          "scattercarpet": [
           {
            "marker": {
             "colorbar": {
              "outlinewidth": 0,
              "ticks": ""
             }
            },
            "type": "scattercarpet"
           }
          ],
          "scattergeo": [
           {
            "marker": {
             "colorbar": {
              "outlinewidth": 0,
              "ticks": ""
             }
            },
            "type": "scattergeo"
           }
          ],
          "scattergl": [
           {
            "marker": {
             "colorbar": {
              "outlinewidth": 0,
              "ticks": ""
             }
            },
            "type": "scattergl"
           }
          ],
          "scattermap": [
           {
            "marker": {
             "colorbar": {
              "outlinewidth": 0,
              "ticks": ""
             }
            },
            "type": "scattermap"
           }
          ],
          "scattermapbox": [
           {
            "marker": {
             "colorbar": {
              "outlinewidth": 0,
              "ticks": ""
             }
            },
            "type": "scattermapbox"
           }
          ],
          "scatterpolar": [
           {
            "marker": {
             "colorbar": {
              "outlinewidth": 0,
              "ticks": ""
             }
            },
            "type": "scatterpolar"
           }
          ],
          "scatterpolargl": [
           {
            "marker": {
             "colorbar": {
              "outlinewidth": 0,
              "ticks": ""
             }
            },
            "type": "scatterpolargl"
           }
          ],
          "scatterternary": [
           {
            "marker": {
             "colorbar": {
              "outlinewidth": 0,
              "ticks": ""
             }
            },
            "type": "scatterternary"
           }
          ],
          "surface": [
           {
            "colorbar": {
             "outlinewidth": 0,
             "ticks": ""
            },
            "colorscale": [
             [
              0,
              "#0d0887"
             ],
             [
              0.1111111111111111,
              "#46039f"
             ],
             [
              0.2222222222222222,
              "#7201a8"
             ],
             [
              0.3333333333333333,
              "#9c179e"
             ],
             [
              0.4444444444444444,
              "#bd3786"
             ],
             [
              0.5555555555555556,
              "#d8576b"
             ],
             [
              0.6666666666666666,
              "#ed7953"
             ],
             [
              0.7777777777777778,
              "#fb9f3a"
             ],
             [
              0.8888888888888888,
              "#fdca26"
             ],
             [
              1,
              "#f0f921"
             ]
            ],
            "type": "surface"
           }
          ],
          "table": [
           {
            "cells": {
             "fill": {
              "color": "#EBF0F8"
             },
             "line": {
              "color": "white"
             }
            },
            "header": {
             "fill": {
              "color": "#C8D4E3"
             },
             "line": {
              "color": "white"
             }
            },
            "type": "table"
           }
          ]
         },
         "layout": {
          "annotationdefaults": {
           "arrowcolor": "#2a3f5f",
           "arrowhead": 0,
           "arrowwidth": 1
          },
          "autotypenumbers": "strict",
          "coloraxis": {
           "colorbar": {
            "outlinewidth": 0,
            "ticks": ""
           }
          },
          "colorscale": {
           "diverging": [
            [
             0,
             "#8e0152"
            ],
            [
             0.1,
             "#c51b7d"
            ],
            [
             0.2,
             "#de77ae"
            ],
            [
             0.3,
             "#f1b6da"
            ],
            [
             0.4,
             "#fde0ef"
            ],
            [
             0.5,
             "#f7f7f7"
            ],
            [
             0.6,
             "#e6f5d0"
            ],
            [
             0.7,
             "#b8e186"
            ],
            [
             0.8,
             "#7fbc41"
            ],
            [
             0.9,
             "#4d9221"
            ],
            [
             1,
             "#276419"
            ]
           ],
           "sequential": [
            [
             0,
             "#0d0887"
            ],
            [
             0.1111111111111111,
             "#46039f"
            ],
            [
             0.2222222222222222,
             "#7201a8"
            ],
            [
             0.3333333333333333,
             "#9c179e"
            ],
            [
             0.4444444444444444,
             "#bd3786"
            ],
            [
             0.5555555555555556,
             "#d8576b"
            ],
            [
             0.6666666666666666,
             "#ed7953"
            ],
            [
             0.7777777777777778,
             "#fb9f3a"
            ],
            [
             0.8888888888888888,
             "#fdca26"
            ],
            [
             1,
             "#f0f921"
            ]
           ],
           "sequentialminus": [
            [
             0,
             "#0d0887"
            ],
            [
             0.1111111111111111,
             "#46039f"
            ],
            [
             0.2222222222222222,
             "#7201a8"
            ],
            [
             0.3333333333333333,
             "#9c179e"
            ],
            [
             0.4444444444444444,
             "#bd3786"
            ],
            [
             0.5555555555555556,
             "#d8576b"
            ],
            [
             0.6666666666666666,
             "#ed7953"
            ],
            [
             0.7777777777777778,
             "#fb9f3a"
            ],
            [
             0.8888888888888888,
             "#fdca26"
            ],
            [
             1,
             "#f0f921"
            ]
           ]
          },
          "colorway": [
           "#636efa",
           "#EF553B",
           "#00cc96",
           "#ab63fa",
           "#FFA15A",
           "#19d3f3",
           "#FF6692",
           "#B6E880",
           "#FF97FF",
           "#FECB52"
          ],
          "font": {
           "color": "#2a3f5f"
          },
          "geo": {
           "bgcolor": "white",
           "lakecolor": "white",
           "landcolor": "#E5ECF6",
           "showlakes": true,
           "showland": true,
           "subunitcolor": "white"
          },
          "hoverlabel": {
           "align": "left"
          },
          "hovermode": "closest",
          "mapbox": {
           "style": "light"
          },
          "paper_bgcolor": "white",
          "plot_bgcolor": "#E5ECF6",
          "polar": {
           "angularaxis": {
            "gridcolor": "white",
            "linecolor": "white",
            "ticks": ""
           },
           "bgcolor": "#E5ECF6",
           "radialaxis": {
            "gridcolor": "white",
            "linecolor": "white",
            "ticks": ""
           }
          },
          "scene": {
           "xaxis": {
            "backgroundcolor": "#E5ECF6",
            "gridcolor": "white",
            "gridwidth": 2,
            "linecolor": "white",
            "showbackground": true,
            "ticks": "",
            "zerolinecolor": "white"
           },
           "yaxis": {
            "backgroundcolor": "#E5ECF6",
            "gridcolor": "white",
            "gridwidth": 2,
            "linecolor": "white",
            "showbackground": true,
            "ticks": "",
            "zerolinecolor": "white"
           },
           "zaxis": {
            "backgroundcolor": "#E5ECF6",
            "gridcolor": "white",
            "gridwidth": 2,
            "linecolor": "white",
            "showbackground": true,
            "ticks": "",
            "zerolinecolor": "white"
           }
          },
          "shapedefaults": {
           "line": {
            "color": "#2a3f5f"
           }
          },
          "ternary": {
           "aaxis": {
            "gridcolor": "white",
            "linecolor": "white",
            "ticks": ""
           },
           "baxis": {
            "gridcolor": "white",
            "linecolor": "white",
            "ticks": ""
           },
           "bgcolor": "#E5ECF6",
           "caxis": {
            "gridcolor": "white",
            "linecolor": "white",
            "ticks": ""
           }
          },
          "title": {
           "x": 0.05
          },
          "xaxis": {
           "automargin": true,
           "gridcolor": "white",
           "linecolor": "white",
           "ticks": "",
           "title": {
            "standoff": 15
           },
           "zerolinecolor": "white",
           "zerolinewidth": 2
          },
          "yaxis": {
           "automargin": true,
           "gridcolor": "white",
           "linecolor": "white",
           "ticks": "",
           "title": {
            "standoff": 15
           },
           "zerolinecolor": "white",
           "zerolinewidth": 2
          }
         }
        },
        "xaxis": {
         "anchor": "y",
         "constrain": "domain",
         "domain": [
          0,
          1
         ],
         "scaleanchor": "y"
        },
        "yaxis": {
         "anchor": "x",
         "autorange": "reversed",
         "constrain": "domain",
         "domain": [
          0,
          1
         ]
        }
       }
      }
     },
     "metadata": {},
     "output_type": "display_data"
    }
   ],
   "source": [
    "import plotly.express as px\n",
    "\n",
    "fig = px.imshow(cx, text_auto=True)\n",
    "\n",
    "fig.show()"
   ]
  },
  {
   "cell_type": "markdown",
   "id": "624a2410",
   "metadata": {},
   "source": [
    "## Calculating rolling volatility (standard deviation) of a stock's price for last 3 months\n",
    "\n",
    "Volatility is a measure of the dispersion of returns for a given security. By calculating rolling volatility, investors can assess the risk associated with a stock over time: Higher volatility indicates higher risk, as the stock's price is more likely to experience significant fluctuations. In portfolio optimization, understanding the volatility of individual stocks and how it changes over time is crucial for diversification and optimization. By analyzing rolling volatility, investors can adjust their portfolios to maintain a desired risk level, potentially improving the risk-return profile.\n",
    "\n",
    "One possible way to calculate volatility is by using the standard deviation of returns for a stock over time.\n",
    "\n",
    "Your task:\n",
    "* Calculate the weekly rolling standard deviation for Apple's closing price\n",
    "* Plot the calculated rolling weekly volatility of Apple's closing price against Apple's closing price. Plot these **on the same chart, but using different y-axes**\n",
    "\n",
    "Helpful hints:\n",
    "* You'll need to use the `pandas` `rolling()` method with a given `window_size` parameter to make it a _weekly_ rolling calculation\n",
    "* Use **only the last three months of data**; data much older than this may not be as useful for portfolio optimization\n",
    "* You'll need to create two axes on the matplotlib figure to be able to use two different y-axes (one for the closing price and one for the rolling volatility calculated here)"
   ]
  },
  {
   "cell_type": "code",
   "execution_count": 33,
   "id": "4da9eb94",
   "metadata": {},
   "outputs": [],
   "source": [
    "# Define the window size for the rolling calculation (e.g., one week)\n",
    "WINDOW_SIZE = 7"
   ]
  },
  {
   "cell_type": "code",
   "execution_count": 34,
   "id": "2c5142b4",
   "metadata": {},
   "outputs": [
    {
     "data": {
      "text/html": [
       "<div>\n",
       "<style scoped>\n",
       "    .dataframe tbody tr th:only-of-type {\n",
       "        vertical-align: middle;\n",
       "    }\n",
       "\n",
       "    .dataframe tbody tr th {\n",
       "        vertical-align: top;\n",
       "    }\n",
       "\n",
       "    .dataframe thead th {\n",
       "        text-align: right;\n",
       "    }\n",
       "</style>\n",
       "<table border=\"1\" class=\"dataframe\">\n",
       "  <thead>\n",
       "    <tr style=\"text-align: right;\">\n",
       "      <th></th>\n",
       "      <th>Close/Last</th>\n",
       "      <th>Volume</th>\n",
       "      <th>Open</th>\n",
       "      <th>High</th>\n",
       "      <th>Low</th>\n",
       "      <th>MA_7</th>\n",
       "    </tr>\n",
       "    <tr>\n",
       "      <th>Date</th>\n",
       "      <th></th>\n",
       "      <th></th>\n",
       "      <th></th>\n",
       "      <th></th>\n",
       "      <th></th>\n",
       "      <th></th>\n",
       "    </tr>\n",
       "  </thead>\n",
       "  <tbody>\n",
       "    <tr>\n",
       "      <th>2024-02-05</th>\n",
       "      <td>187.68</td>\n",
       "      <td>69668820.0</td>\n",
       "      <td>188.15</td>\n",
       "      <td>189.25</td>\n",
       "      <td>185.84</td>\n",
       "      <td>NaN</td>\n",
       "    </tr>\n",
       "    <tr>\n",
       "      <th>2024-02-06</th>\n",
       "      <td>189.30</td>\n",
       "      <td>43490760.0</td>\n",
       "      <td>186.86</td>\n",
       "      <td>189.31</td>\n",
       "      <td>186.77</td>\n",
       "      <td>NaN</td>\n",
       "    </tr>\n",
       "    <tr>\n",
       "      <th>2024-02-07</th>\n",
       "      <td>189.41</td>\n",
       "      <td>53438960.0</td>\n",
       "      <td>190.64</td>\n",
       "      <td>191.05</td>\n",
       "      <td>188.61</td>\n",
       "      <td>NaN</td>\n",
       "    </tr>\n",
       "    <tr>\n",
       "      <th>2024-02-08</th>\n",
       "      <td>188.32</td>\n",
       "      <td>40962050.0</td>\n",
       "      <td>189.39</td>\n",
       "      <td>189.54</td>\n",
       "      <td>187.35</td>\n",
       "      <td>NaN</td>\n",
       "    </tr>\n",
       "    <tr>\n",
       "      <th>2024-02-09</th>\n",
       "      <td>188.85</td>\n",
       "      <td>45155220.0</td>\n",
       "      <td>188.65</td>\n",
       "      <td>189.99</td>\n",
       "      <td>188.00</td>\n",
       "      <td>NaN</td>\n",
       "    </tr>\n",
       "    <tr>\n",
       "      <th>...</th>\n",
       "      <td>...</td>\n",
       "      <td>...</td>\n",
       "      <td>...</td>\n",
       "      <td>...</td>\n",
       "      <td>...</td>\n",
       "      <td>...</td>\n",
       "    </tr>\n",
       "    <tr>\n",
       "      <th>2024-04-29</th>\n",
       "      <td>173.50</td>\n",
       "      <td>68169420.0</td>\n",
       "      <td>173.37</td>\n",
       "      <td>176.03</td>\n",
       "      <td>173.10</td>\n",
       "      <td>168.492857</td>\n",
       "    </tr>\n",
       "    <tr>\n",
       "      <th>2024-04-30</th>\n",
       "      <td>170.33</td>\n",
       "      <td>65934780.0</td>\n",
       "      <td>173.33</td>\n",
       "      <td>174.99</td>\n",
       "      <td>170.00</td>\n",
       "      <td>169.254286</td>\n",
       "    </tr>\n",
       "    <tr>\n",
       "      <th>2024-05-01</th>\n",
       "      <td>169.30</td>\n",
       "      <td>50383150.0</td>\n",
       "      <td>169.58</td>\n",
       "      <td>172.71</td>\n",
       "      <td>169.11</td>\n",
       "      <td>169.748571</td>\n",
       "    </tr>\n",
       "    <tr>\n",
       "      <th>2024-05-02</th>\n",
       "      <td>173.03</td>\n",
       "      <td>94214920.0</td>\n",
       "      <td>172.51</td>\n",
       "      <td>173.42</td>\n",
       "      <td>170.89</td>\n",
       "      <td>170.624286</td>\n",
       "    </tr>\n",
       "    <tr>\n",
       "      <th>2024-05-03</th>\n",
       "      <td>183.38</td>\n",
       "      <td>163224100.0</td>\n",
       "      <td>186.65</td>\n",
       "      <td>187.00</td>\n",
       "      <td>182.66</td>\n",
       "      <td>172.675714</td>\n",
       "    </tr>\n",
       "  </tbody>\n",
       "</table>\n",
       "<p>63 rows × 6 columns</p>\n",
       "</div>"
      ],
      "text/plain": [
       "            Close/Last       Volume    Open    High     Low        MA_7\n",
       "Date                                                                   \n",
       "2024-02-05      187.68   69668820.0  188.15  189.25  185.84         NaN\n",
       "2024-02-06      189.30   43490760.0  186.86  189.31  186.77         NaN\n",
       "2024-02-07      189.41   53438960.0  190.64  191.05  188.61         NaN\n",
       "2024-02-08      188.32   40962050.0  189.39  189.54  187.35         NaN\n",
       "2024-02-09      188.85   45155220.0  188.65  189.99  188.00         NaN\n",
       "...                ...          ...     ...     ...     ...         ...\n",
       "2024-04-29      173.50   68169420.0  173.37  176.03  173.10  168.492857\n",
       "2024-04-30      170.33   65934780.0  173.33  174.99  170.00  169.254286\n",
       "2024-05-01      169.30   50383150.0  169.58  172.71  169.11  169.748571\n",
       "2024-05-02      173.03   94214920.0  172.51  173.42  170.89  170.624286\n",
       "2024-05-03      183.38  163224100.0  186.65  187.00  182.66  172.675714\n",
       "\n",
       "[63 rows x 6 columns]"
      ]
     },
     "execution_count": 34,
     "metadata": {},
     "output_type": "execute_result"
    }
   ],
   "source": [
    "# Calculate rolling one-week volatility\n",
    "apple_last_3_months[f'MA_{WINDOW_SIZE}'] = apple_last_3_months['Close/Last'].rolling(window=WINDOW_SIZE).mean()\n",
    "apple_last_3_months"
   ]
  },
  {
   "cell_type": "code",
   "execution_count": 35,
   "id": "92a9c0b8",
   "metadata": {},
   "outputs": [
    {
     "data": {
      "image/png": "[encoded data removed]",
      "text/plain": [
       "<Figure size 1200x600 with 2 Axes>"
      ]
     },
     "metadata": {},
     "output_type": "display_data"
    }
   ],
   "source": [
    "# Plot the calculated rolling weekly volatility of Apple's closing price against Apple's closing price\n",
    "# Plot these on the same chart, but using different y-axes\n",
    "fig, ax1 = plt.subplots(figsize=(12, 6))\n",
    "\n",
    "# Plot the closing price on the first y-axis\n",
    "ax1.plot(\n",
    "    apple_last_3_months.index,\n",
    "    apple_last_3_months[\"Close/Last\"],\n",
    "    label=\"Closing Price\",\n",
    "    color=\"gray\",\n",
    ")\n",
    "ax1.set_ylabel(\"Closing Price\", color=\"gray\")\n",
    "ax1.tick_params(axis=\"y\", labelcolor=\"gray\")\n",
    "\n",
    "# Create a second y-axis for the rolling weekly volatility\n",
    "ax2 = ax1.twinx()\n",
    "ax2.plot(\n",
    "    apple_last_3_months.index,\n",
    "    apple_last_3_months[f\"MA_{WINDOW_SIZE}\"],\n",
    "    label=f\"{WINDOW_SIZE}-day MA Price\",\n",
    "    color=\"green\",\n",
    ")\n",
    "ax2.set_ylabel(f\"{WINDOW_SIZE}-day MA Price\", color=\"green\")\n",
    "ax2.tick_params(axis=\"y\", labelcolor=\"green\")\n",
    "\n",
    "# Add a title and legend\n",
    "fig.suptitle(f\"Apple Closing Price vs Rolling {WINDOW_SIZE}-days Volatility\")\n",
    "fig.tight_layout()\n",
    "plt.show()"
   ]
  },
  {
   "cell_type": "markdown",
   "id": "e2cf3c78",
   "metadata": {},
   "source": [
    "## Export data\n",
    "\n",
    "Now that you have preprocessed your data, you should save it in new csv files so that it can be used in downstream tasks without having to redo all the preprocessing steps. \n",
    "\n",
    "Your task:\n",
    "* Use `pandas` to export all modified datasets back to new CSV files"
   ]
  },
  {
   "cell_type": "code",
   "execution_count": 36,
   "id": "3ea6d0af",
   "metadata": {},
   "outputs": [],
   "source": [
    "for obj_name in dir():\n",
    "    if obj_name.startswith('_'):\n",
    "        continue\n",
    "    \n",
    "    obj = eval(obj_name)\n",
    "    if isinstance(obj, pd.core.frame.DataFrame):\n",
    "        obj.to_csv(f'output/{obj_name}.csv')"
   ]
  }
 ],
 "metadata": {
  "kernelspec": {
   "display_name": "ds-basic-3.12.1",
   "language": "python",
   "name": "python3"
  },
  "language_info": {
   "codemirror_mode": {
    "name": "ipython",
    "version": 3
   },
   "file_extension": ".py",
   "mimetype": "text/x-python",
   "name": "python",
   "nbconvert_exporter": "python",
   "pygments_lexer": "ipython3",
   "version": "3.12.1"
  }
 },
 "nbformat": 4,
 "nbformat_minor": 5
}
